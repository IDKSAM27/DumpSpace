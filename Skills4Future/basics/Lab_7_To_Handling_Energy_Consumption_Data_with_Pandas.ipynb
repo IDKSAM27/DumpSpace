{
 "cells": [
  {
   "cell_type": "markdown",
   "id": "26cefae5",
   "metadata": {},
   "source": [
    "# Handling Energy Consumption Data with Pandas: Missing Values and Data Preprocessing"
   ]
  },
  {
   "cell_type": "markdown",
   "id": "60c7ce93",
   "metadata": {},
   "source": [
    "### Objectives:\n",
    "\n",
    "1.Handling Missing Values: We will demonstrate how to handle missing values in energy consumption data by removing rows/columns, imputing values using mean/median, applying forward/backward filling, and flagging missing data.\n",
    "\n",
    "2.Data Preprocessing: We will normalize/standardize the data, encode categorical variables, and implement feature engineering for further analysis."
   ]
  },
  {
   "cell_type": "markdown",
   "id": "07eb5579",
   "metadata": {},
   "source": [
    "### Step 1: Import Pandas and Create a Dataset with Missing Values\n",
    "\n",
    "We’ll first import the necessary libraries and create a dataset that includes some missing values (NaN)."
   ]
  },
  {
   "cell_type": "code",
   "execution_count": 2,
   "id": "2ef630d5",
   "metadata": {},
   "outputs": [
    {
     "name": "stdout",
     "output_type": "stream",
     "text": [
      "Original Energy Data with Missing Values:\n",
      "  Energy Source  Energy Consumption (MWh)  Cost (Million $)\n",
      "0         Solar                    1200.0             200.0\n",
      "1          Wind                       NaN             400.0\n",
      "2    Hydropower                    2900.0               NaN\n",
      "3    Geothermal                       NaN             150.0\n",
      "4       Biomass                    2500.0             250.0\n",
      "5       Nuclear                    3200.0               NaN\n"
     ]
    }
   ],
   "source": [
    "import pandas as pd\n",
    "import numpy as np\n",
    "\n",
    "# Sample data with missing values\n",
    "data = {\n",
    "    \"Energy Source\": [\"Solar\", \"Wind\", \"Hydropower\", \"Geothermal\", \"Biomass\", \"Nuclear\"],\n",
    "    \"Energy Consumption (MWh)\": [1200, np.nan, 2900, np.nan, 2500, 3200],\n",
    "    \"Cost (Million $)\": [200, 400, np.nan, 150, 250, np.nan]\n",
    "}\n",
    "\n",
    "# Create a DataFrame\n",
    "energy_df = pd.DataFrame(data)\n",
    "\n",
    "print(\"Original Energy Data with Missing Values:\")\n",
    "print(energy_df)"
   ]
  },
  {
   "cell_type": "code",
   "execution_count": 3,
   "id": "25db4a87-11e9-40ca-9ca2-c6018522f67e",
   "metadata": {},
   "outputs": [
    {
     "data": {
      "text/plain": [
       "Energy Source               0\n",
       "Energy Consumption (MWh)    2\n",
       "Cost (Million $)            2\n",
       "dtype: int64"
      ]
     },
     "execution_count": 3,
     "metadata": {},
     "output_type": "execute_result"
    }
   ],
   "source": [
    "energy_df.isnull().sum()"
   ]
  },
  {
   "cell_type": "markdown",
   "id": "2da75d65",
   "metadata": {},
   "source": [
    "We created a Pandas DataFrame energy_df representing energy sources and their consumption and costs.\n",
    "\n",
    "The dataset includes some NaN (missing) values, which we will handle in the next steps."
   ]
  },
  {
   "cell_type": "markdown",
   "id": "c62a42db",
   "metadata": {},
   "source": [
    "### 1. Handling Missing Values\n"
   ]
  },
  {
   "cell_type": "markdown",
   "id": "a02cc291",
   "metadata": {},
   "source": [
    "#### 1.1. Remove Rows with Missing Values\n",
    "\n",
    "We can remove rows that contain any missing values using dropna()."
   ]
  },
  {
   "cell_type": "code",
   "execution_count": 4,
   "id": "7a9e9dc8",
   "metadata": {},
   "outputs": [
    {
     "name": "stdout",
     "output_type": "stream",
     "text": [
      "\n",
      "Data After Removing Rows with Missing Values:\n"
     ]
    },
    {
     "data": {
      "text/html": [
       "<div>\n",
       "<style scoped>\n",
       "    .dataframe tbody tr th:only-of-type {\n",
       "        vertical-align: middle;\n",
       "    }\n",
       "\n",
       "    .dataframe tbody tr th {\n",
       "        vertical-align: top;\n",
       "    }\n",
       "\n",
       "    .dataframe thead th {\n",
       "        text-align: right;\n",
       "    }\n",
       "</style>\n",
       "<table border=\"1\" class=\"dataframe\">\n",
       "  <thead>\n",
       "    <tr style=\"text-align: right;\">\n",
       "      <th></th>\n",
       "      <th>Energy Source</th>\n",
       "      <th>Energy Consumption (MWh)</th>\n",
       "      <th>Cost (Million $)</th>\n",
       "    </tr>\n",
       "  </thead>\n",
       "  <tbody>\n",
       "    <tr>\n",
       "      <th>0</th>\n",
       "      <td>Solar</td>\n",
       "      <td>1200.0</td>\n",
       "      <td>200.0</td>\n",
       "    </tr>\n",
       "    <tr>\n",
       "      <th>4</th>\n",
       "      <td>Biomass</td>\n",
       "      <td>2500.0</td>\n",
       "      <td>250.0</td>\n",
       "    </tr>\n",
       "  </tbody>\n",
       "</table>\n",
       "</div>"
      ],
      "text/plain": [
       "  Energy Source  Energy Consumption (MWh)  Cost (Million $)\n",
       "0         Solar                    1200.0             200.0\n",
       "4       Biomass                    2500.0             250.0"
      ]
     },
     "execution_count": 4,
     "metadata": {},
     "output_type": "execute_result"
    }
   ],
   "source": [
    "# Remove rows with any missing values\n",
    "cleaned_df = energy_df.dropna() # axis=1\n",
    "\n",
    "print(\"\\nData After Removing Rows with Missing Values:\")\n",
    "cleaned_df.head()"
   ]
  },
  {
   "cell_type": "markdown",
   "id": "0f7cc7d5",
   "metadata": {},
   "source": [
    "The above code snippet removes rows where any column has missing data. This method is straightforward but may result in losing a significant amount of data."
   ]
  },
  {
   "cell_type": "markdown",
   "id": "65a17183",
   "metadata": {},
   "source": [
    "#### 1.2. Impute Missing Values with the Mean\n",
    "\n",
    "Instead of removing rows, we can impute missing values by filling them with the mean value of the column."
   ]
  },
  {
   "cell_type": "code",
   "execution_count": 5,
   "id": "76738931-2274-44b0-a37a-b4e36951bdd1",
   "metadata": {},
   "outputs": [
    {
     "name": "stdout",
     "output_type": "stream",
     "text": [
      "Mean of Energy Consumption: 2450.0\n",
      "Mean of Cost: 250.0\n"
     ]
    }
   ],
   "source": [
    "ec_m = energy_df[\"Energy Consumption (MWh)\"].mean()\n",
    "c_m = energy_df[\"Cost (Million $)\"].mean()\n",
    "print(\"Mean of Energy Consumption:\", ec_m)\n",
    "print(\"Mean of Cost:\", c_m)"
   ]
  },
  {
   "cell_type": "code",
   "execution_count": 6,
   "id": "5f2575fb",
   "metadata": {},
   "outputs": [
    {
     "name": "stdout",
     "output_type": "stream",
     "text": [
      "\n",
      "Data After Imputing Missing Values with Mean:\n"
     ]
    },
    {
     "name": "stderr",
     "output_type": "stream",
     "text": [
      "C:\\Users\\Sampreet\\AppData\\Local\\Temp\\ipykernel_18204\\3528430686.py:2: FutureWarning: A value is trying to be set on a copy of a DataFrame or Series through chained assignment using an inplace method.\n",
      "The behavior will change in pandas 3.0. This inplace method will never work because the intermediate object on which we are setting values always behaves as a copy.\n",
      "\n",
      "For example, when doing 'df[col].method(value, inplace=True)', try using 'df.method({col: value}, inplace=True)' or df[col] = df[col].method(value) instead, to perform the operation inplace on the original object.\n",
      "\n",
      "\n",
      "  energy_df[\"Energy Consumption (MWh)\"].fillna(ec_m, inplace=True)\n",
      "C:\\Users\\Sampreet\\AppData\\Local\\Temp\\ipykernel_18204\\3528430686.py:5: FutureWarning: A value is trying to be set on a copy of a DataFrame or Series through chained assignment using an inplace method.\n",
      "The behavior will change in pandas 3.0. This inplace method will never work because the intermediate object on which we are setting values always behaves as a copy.\n",
      "\n",
      "For example, when doing 'df[col].method(value, inplace=True)', try using 'df.method({col: value}, inplace=True)' or df[col] = df[col].method(value) instead, to perform the operation inplace on the original object.\n",
      "\n",
      "\n",
      "  energy_df[\"Cost (Million $)\"].fillna(c_m, inplace=True)\n"
     ]
    },
    {
     "data": {
      "text/html": [
       "<div>\n",
       "<style scoped>\n",
       "    .dataframe tbody tr th:only-of-type {\n",
       "        vertical-align: middle;\n",
       "    }\n",
       "\n",
       "    .dataframe tbody tr th {\n",
       "        vertical-align: top;\n",
       "    }\n",
       "\n",
       "    .dataframe thead th {\n",
       "        text-align: right;\n",
       "    }\n",
       "</style>\n",
       "<table border=\"1\" class=\"dataframe\">\n",
       "  <thead>\n",
       "    <tr style=\"text-align: right;\">\n",
       "      <th></th>\n",
       "      <th>Energy Source</th>\n",
       "      <th>Energy Consumption (MWh)</th>\n",
       "      <th>Cost (Million $)</th>\n",
       "    </tr>\n",
       "  </thead>\n",
       "  <tbody>\n",
       "    <tr>\n",
       "      <th>0</th>\n",
       "      <td>Solar</td>\n",
       "      <td>1200.0</td>\n",
       "      <td>200.0</td>\n",
       "    </tr>\n",
       "    <tr>\n",
       "      <th>1</th>\n",
       "      <td>Wind</td>\n",
       "      <td>2450.0</td>\n",
       "      <td>400.0</td>\n",
       "    </tr>\n",
       "    <tr>\n",
       "      <th>2</th>\n",
       "      <td>Hydropower</td>\n",
       "      <td>2900.0</td>\n",
       "      <td>250.0</td>\n",
       "    </tr>\n",
       "    <tr>\n",
       "      <th>3</th>\n",
       "      <td>Geothermal</td>\n",
       "      <td>2450.0</td>\n",
       "      <td>150.0</td>\n",
       "    </tr>\n",
       "    <tr>\n",
       "      <th>4</th>\n",
       "      <td>Biomass</td>\n",
       "      <td>2500.0</td>\n",
       "      <td>250.0</td>\n",
       "    </tr>\n",
       "  </tbody>\n",
       "</table>\n",
       "</div>"
      ],
      "text/plain": [
       "  Energy Source  Energy Consumption (MWh)  Cost (Million $)\n",
       "0         Solar                    1200.0             200.0\n",
       "1          Wind                    2450.0             400.0\n",
       "2    Hydropower                    2900.0             250.0\n",
       "3    Geothermal                    2450.0             150.0\n",
       "4       Biomass                    2500.0             250.0"
      ]
     },
     "execution_count": 6,
     "metadata": {},
     "output_type": "execute_result"
    }
   ],
   "source": [
    "# Impute missing values in 'Energy Consumption (MWh)' with the mean\n",
    "energy_df[\"Energy Consumption (MWh)\"].fillna(ec_m, inplace=True)\n",
    "\n",
    "# Impute missing values in 'Cost (Million $)' with the mean\n",
    "energy_df[\"Cost (Million $)\"].fillna(c_m, inplace=True)\n",
    "\n",
    "print(\"\\nData After Imputing Missing Values with Mean:\")\n",
    "energy_df.head()\n"
   ]
  },
  {
   "cell_type": "markdown",
   "id": "15f30dfa",
   "metadata": {},
   "source": [
    "We used the mean imputation method to fill missing values in both the Energy Consumption (MWh) and Cost (Million $) columns, ensuring that we retain the dataset while handling missing values."
   ]
  },
  {
   "cell_type": "markdown",
   "id": "a450c06c",
   "metadata": {},
   "source": [
    "#### 1.3. Forward/Backward Filling\n",
    "\n",
    "Another method is forward filling, where missing values are replaced by the previous valid entry."
   ]
  },
  {
   "cell_type": "code",
   "execution_count": 7,
   "id": "f50c5295",
   "metadata": {
    "scrolled": true
   },
   "outputs": [
    {
     "name": "stdout",
     "output_type": "stream",
     "text": [
      "\n",
      "Data After Forward Filling:\n"
     ]
    },
    {
     "data": {
      "text/html": [
       "<div>\n",
       "<style scoped>\n",
       "    .dataframe tbody tr th:only-of-type {\n",
       "        vertical-align: middle;\n",
       "    }\n",
       "\n",
       "    .dataframe tbody tr th {\n",
       "        vertical-align: top;\n",
       "    }\n",
       "\n",
       "    .dataframe thead th {\n",
       "        text-align: right;\n",
       "    }\n",
       "</style>\n",
       "<table border=\"1\" class=\"dataframe\">\n",
       "  <thead>\n",
       "    <tr style=\"text-align: right;\">\n",
       "      <th></th>\n",
       "      <th>Energy Source</th>\n",
       "      <th>Energy Consumption (MWh)</th>\n",
       "      <th>Cost (Million $)</th>\n",
       "    </tr>\n",
       "  </thead>\n",
       "  <tbody>\n",
       "    <tr>\n",
       "      <th>0</th>\n",
       "      <td>Solar</td>\n",
       "      <td>1200.0</td>\n",
       "      <td>200.0</td>\n",
       "    </tr>\n",
       "    <tr>\n",
       "      <th>1</th>\n",
       "      <td>Wind</td>\n",
       "      <td>1200.0</td>\n",
       "      <td>400.0</td>\n",
       "    </tr>\n",
       "    <tr>\n",
       "      <th>2</th>\n",
       "      <td>Hydropower</td>\n",
       "      <td>2900.0</td>\n",
       "      <td>400.0</td>\n",
       "    </tr>\n",
       "    <tr>\n",
       "      <th>3</th>\n",
       "      <td>Geothermal</td>\n",
       "      <td>2900.0</td>\n",
       "      <td>150.0</td>\n",
       "    </tr>\n",
       "    <tr>\n",
       "      <th>4</th>\n",
       "      <td>Biomass</td>\n",
       "      <td>2500.0</td>\n",
       "      <td>250.0</td>\n",
       "    </tr>\n",
       "  </tbody>\n",
       "</table>\n",
       "</div>"
      ],
      "text/plain": [
       "  Energy Source  Energy Consumption (MWh)  Cost (Million $)\n",
       "0         Solar                    1200.0             200.0\n",
       "1          Wind                    1200.0             400.0\n",
       "2    Hydropower                    2900.0             400.0\n",
       "3    Geothermal                    2900.0             150.0\n",
       "4       Biomass                    2500.0             250.0"
      ]
     },
     "execution_count": 7,
     "metadata": {},
     "output_type": "execute_result"
    }
   ],
   "source": [
    "# Redefine DataFrame\n",
    "energy_df = pd.DataFrame(data)\n",
    "\n",
    "# Forward fill missing values\n",
    "# forward_filled_df = energy_df.fillna(method=\"ffill\")\n",
    "\n",
    "forward_filled_df = energy_df.ffill()\n",
    "\n",
    "print(\"\\nData After Forward Filling:\")\n",
    "forward_filled_df.head()"
   ]
  },
  {
   "cell_type": "code",
   "execution_count": 8,
   "id": "b0c6cb26-ecb5-48f1-b7a8-f4dc47675938",
   "metadata": {},
   "outputs": [
    {
     "name": "stdout",
     "output_type": "stream",
     "text": [
      "\n",
      "Data After Backward Filling:\n"
     ]
    },
    {
     "data": {
      "text/html": [
       "<div>\n",
       "<style scoped>\n",
       "    .dataframe tbody tr th:only-of-type {\n",
       "        vertical-align: middle;\n",
       "    }\n",
       "\n",
       "    .dataframe tbody tr th {\n",
       "        vertical-align: top;\n",
       "    }\n",
       "\n",
       "    .dataframe thead th {\n",
       "        text-align: right;\n",
       "    }\n",
       "</style>\n",
       "<table border=\"1\" class=\"dataframe\">\n",
       "  <thead>\n",
       "    <tr style=\"text-align: right;\">\n",
       "      <th></th>\n",
       "      <th>Energy Source</th>\n",
       "      <th>Energy Consumption (MWh)</th>\n",
       "      <th>Cost (Million $)</th>\n",
       "    </tr>\n",
       "  </thead>\n",
       "  <tbody>\n",
       "    <tr>\n",
       "      <th>0</th>\n",
       "      <td>Solar</td>\n",
       "      <td>1200.0</td>\n",
       "      <td>200.0</td>\n",
       "    </tr>\n",
       "    <tr>\n",
       "      <th>1</th>\n",
       "      <td>Wind</td>\n",
       "      <td>2900.0</td>\n",
       "      <td>400.0</td>\n",
       "    </tr>\n",
       "    <tr>\n",
       "      <th>2</th>\n",
       "      <td>Hydropower</td>\n",
       "      <td>2900.0</td>\n",
       "      <td>150.0</td>\n",
       "    </tr>\n",
       "    <tr>\n",
       "      <th>3</th>\n",
       "      <td>Geothermal</td>\n",
       "      <td>2500.0</td>\n",
       "      <td>150.0</td>\n",
       "    </tr>\n",
       "    <tr>\n",
       "      <th>4</th>\n",
       "      <td>Biomass</td>\n",
       "      <td>2500.0</td>\n",
       "      <td>250.0</td>\n",
       "    </tr>\n",
       "  </tbody>\n",
       "</table>\n",
       "</div>"
      ],
      "text/plain": [
       "  Energy Source  Energy Consumption (MWh)  Cost (Million $)\n",
       "0         Solar                    1200.0             200.0\n",
       "1          Wind                    2900.0             400.0\n",
       "2    Hydropower                    2900.0             150.0\n",
       "3    Geothermal                    2500.0             150.0\n",
       "4       Biomass                    2500.0             250.0"
      ]
     },
     "execution_count": 8,
     "metadata": {},
     "output_type": "execute_result"
    }
   ],
   "source": [
    "# Redefine DataFrame\n",
    "energy_df = pd.DataFrame(data)\n",
    "#energy_df.head()\n",
    "backward_filled_df = energy_df.bfill()\n",
    "\n",
    "print(\"\\nData After Backward Filling:\")\n",
    "backward_filled_df.head()"
   ]
  },
  {
   "cell_type": "markdown",
   "id": "945aa03a",
   "metadata": {},
   "source": [
    "Forward filling (ffill) replaces missing values with the previous non-missing value in the column, which is useful when data is time-series-based."
   ]
  },
  {
   "cell_type": "markdown",
   "id": "e23c3bc9",
   "metadata": {},
   "source": [
    "#### 1.4. Flag Missing Values\n",
    "\n",
    "We can also create a separate column to flag missing values before imputation."
   ]
  },
  {
   "cell_type": "code",
   "execution_count": 9,
   "id": "99b7b1ac",
   "metadata": {},
   "outputs": [
    {
     "name": "stdout",
     "output_type": "stream",
     "text": [
      "\n",
      "Data with Missing Values Flagged:\n",
      "  Energy Source  Energy Consumption (MWh)  Cost (Million $)  \\\n",
      "0         Solar                    1200.0             200.0   \n",
      "1          Wind                       NaN             400.0   \n",
      "2    Hydropower                    2900.0               NaN   \n",
      "3    Geothermal                       NaN             150.0   \n",
      "4       Biomass                    2500.0             250.0   \n",
      "5       Nuclear                    3200.0               NaN   \n",
      "\n",
      "   Missing Consumption  \n",
      "0                    0  \n",
      "1                    1  \n",
      "2                    0  \n",
      "3                    1  \n",
      "4                    0  \n",
      "5                    0  \n"
     ]
    }
   ],
   "source": [
    "# Redefine DataFrame\n",
    "energy_df = pd.DataFrame(data)\n",
    "\n",
    "# Create a flag column indicating missing values in 'Energy Consumption (MWh)'\n",
    "energy_df[\"Missing Consumption\"] = energy_df[\"Energy Consumption (MWh)\"].isna().astype(int)\n",
    "\n",
    "print(\"\\nData with Missing Values Flagged:\")\n",
    "print(energy_df)\n"
   ]
  },
  {
   "cell_type": "markdown",
   "id": "f6214be6",
   "metadata": {},
   "source": [
    "The Missing Consumption column flags missing values with 1 (missing) or 0 (not missing), which helps track imputed values."
   ]
  },
  {
   "cell_type": "markdown",
   "id": "75128a2c",
   "metadata": {},
   "source": [
    "### 2. Data Preprocessing\n"
   ]
  },
  {
   "cell_type": "markdown",
   "id": "9fbbd1a7",
   "metadata": {},
   "source": [
    "#### 2.1. Normalization (Min-Max Scaling)\n",
    "\n",
    "We will scale the data to a range between 0 and 1 using Min-Max Scaling."
   ]
  },
  {
   "cell_type": "code",
   "execution_count": 10,
   "id": "ac46eee6-6014-484f-affe-ba1f37f529fa",
   "metadata": {},
   "outputs": [],
   "source": [
    "d = [2,4,3,6]\n",
    "\n",
    "x_s1 = 0\n",
    "x_s2 = 0.5\n",
    "x_s3 = 0.25\n",
    "x_s4 = 1"
   ]
  },
  {
   "cell_type": "markdown",
   "id": "fef49fc7",
   "metadata": {},
   "source": [
    "## xi = xi - xmin / xmax - xmin"
   ]
  },
  {
   "cell_type": "code",
   "execution_count": 11,
   "id": "de3b9c54",
   "metadata": {},
   "outputs": [
    {
     "name": "stdout",
     "output_type": "stream",
     "text": [
      "\n",
      "Data After Normalization (Min-Max Scaling):\n",
      "  Energy Source  Energy Consumption (MWh)  Cost (Million $)\n",
      "0         Solar                      0.00               0.2\n",
      "1          Wind                       NaN               1.0\n",
      "2    Hydropower                      0.85               NaN\n",
      "3    Geothermal                       NaN               0.0\n",
      "4       Biomass                      0.65               0.4\n",
      "5       Nuclear                      1.00               NaN\n"
     ]
    }
   ],
   "source": [
    "import pandas as pd\n",
    "energy_df = pd.DataFrame(data)\n",
    "\n",
    "from sklearn.preprocessing import MinMaxScaler\n",
    "\n",
    "# Normalize the 'Energy Consumption (MWh)' and 'Cost (Million $)'\n",
    "scaler = MinMaxScaler()\n",
    "\n",
    "energy_df[[\"Energy Consumption (MWh)\", \"Cost (Million $)\"]] = scaler.fit_transform(energy_df[[\"Energy Consumption (MWh)\", \"Cost (Million $)\"]])\n",
    "\n",
    "print(\"\\nData After Normalization (Min-Max Scaling):\")\n",
    "print(energy_df)"
   ]
  },
  {
   "cell_type": "markdown",
   "id": "cfc10893",
   "metadata": {},
   "source": [
    "Min-Max Scaling normalizes the energy consumption and cost values, scaling them to a range between 0 and 1. This is useful when comparing features with different units or magnitudes."
   ]
  },
  {
   "cell_type": "markdown",
   "id": "b65a1c99",
   "metadata": {},
   "source": [
    "#### 2.2. Standardization (Z-score Scaling)\n",
    "\n",
    "Alternatively, we can use standardization, which centers the data around a mean of 0 with a standard deviation of 1."
   ]
  },
  {
   "cell_type": "code",
   "execution_count": 12,
   "id": "a05a46a2",
   "metadata": {},
   "outputs": [
    {
     "name": "stdout",
     "output_type": "stream",
     "text": [
      "\n",
      "Data After Standardization (Z-score Scaling):\n",
      "  Energy Source  Energy Consumption (MWh)  Cost (Million $)\n",
      "0         Solar                 -1.637804         -0.534522\n",
      "1          Wind                       NaN          1.603567\n",
      "2    Hydropower                  0.589610               NaN\n",
      "3    Geothermal                       NaN         -1.069045\n",
      "4       Biomass                  0.065512          0.000000\n",
      "5       Nuclear                  0.982683               NaN\n"
     ]
    }
   ],
   "source": [
    "from sklearn.preprocessing import StandardScaler\n",
    "\n",
    "# Standardize the 'Energy Consumption (MWh)' and 'Cost (Million $)'\n",
    "scaler = StandardScaler()\n",
    "energy_df[[\"Energy Consumption (MWh)\", \"Cost (Million $)\"]] = scaler.fit_transform(\n",
    "    energy_df[[\"Energy Consumption (MWh)\", \"Cost (Million $)\"]]\n",
    ")\n",
    "\n",
    "print(\"\\nData After Standardization (Z-score Scaling):\")\n",
    "print(energy_df)\n"
   ]
  },
  {
   "cell_type": "markdown",
   "id": "39945a3e",
   "metadata": {},
   "source": [
    "Z-score scaling standardizes the values, making the mean 0 and standard deviation 1, which is useful when dealing with normally distributed data."
   ]
  },
  {
   "cell_type": "markdown",
   "id": "c27a10f9",
   "metadata": {},
   "source": [
    "#### 2.3. Encoding Categorical Variables\n",
    "\n",
    "We’ll convert the categorical column Energy Source into numeric format using one-hot encoding."
   ]
  },
  {
   "cell_type": "code",
   "execution_count": 13,
   "id": "2e67e87a",
   "metadata": {},
   "outputs": [
    {
     "name": "stdout",
     "output_type": "stream",
     "text": [
      "\n",
      "Data After One-Hot Encoding Categorical Variables:\n",
      "   Energy Consumption (MWh)  Cost (Million $)  Energy Source_Biomass  \\\n",
      "0                 -1.637804         -0.534522                  False   \n",
      "1                       NaN          1.603567                  False   \n",
      "2                  0.589610               NaN                  False   \n",
      "3                       NaN         -1.069045                  False   \n",
      "4                  0.065512          0.000000                   True   \n",
      "5                  0.982683               NaN                  False   \n",
      "\n",
      "   Energy Source_Geothermal  Energy Source_Hydropower  Energy Source_Nuclear  \\\n",
      "0                     False                     False                  False   \n",
      "1                     False                     False                  False   \n",
      "2                     False                      True                  False   \n",
      "3                      True                     False                  False   \n",
      "4                     False                     False                  False   \n",
      "5                     False                     False                   True   \n",
      "\n",
      "   Energy Source_Solar  Energy Source_Wind  \n",
      "0                 True               False  \n",
      "1                False                True  \n",
      "2                False               False  \n",
      "3                False               False  \n",
      "4                False               False  \n",
      "5                False               False  \n"
     ]
    }
   ],
   "source": [
    "# One-hot encode the 'Energy Source' column\n",
    "energy_encoded_df = pd.get_dummies(energy_df, columns=[\"Energy Source\"])\n",
    "\n",
    "print(\"\\nData After One-Hot Encoding Categorical Variables:\")\n",
    "print(energy_encoded_df)"
   ]
  },
  {
   "cell_type": "markdown",
   "id": "473a49b9",
   "metadata": {},
   "source": [
    "One-hot encoding converts the Energy Source column into multiple binary columns, each representing the presence (1) or absence (0) of a specific energy source."
   ]
  },
  {
   "cell_type": "markdown",
   "id": "f50ef2c1",
   "metadata": {},
   "source": [
    "#### 2.4. Feature Engineering\n",
    "\n",
    "We can create a new feature that represents the ratio of energy consumption to cost."
   ]
  },
  {
   "cell_type": "code",
   "execution_count": 14,
   "id": "9e25c096",
   "metadata": {},
   "outputs": [
    {
     "name": "stdout",
     "output_type": "stream",
     "text": [
      "\n",
      "Data with New Feature (Consumption per $Million):\n",
      "   Energy Consumption (MWh)  Cost (Million $)  Energy Source_Biomass  \\\n",
      "0                 -1.637804         -0.534522                  False   \n",
      "1                       NaN          1.603567                  False   \n",
      "2                  0.589610               NaN                  False   \n",
      "3                       NaN         -1.069045                  False   \n",
      "4                  0.065512          0.000000                   True   \n",
      "5                  0.982683               NaN                  False   \n",
      "\n",
      "   Energy Source_Geothermal  Energy Source_Hydropower  Energy Source_Nuclear  \\\n",
      "0                     False                     False                  False   \n",
      "1                     False                     False                  False   \n",
      "2                     False                      True                  False   \n",
      "3                      True                     False                  False   \n",
      "4                     False                     False                  False   \n",
      "5                     False                     False                   True   \n",
      "\n",
      "   Energy Source_Solar  Energy Source_Wind  Consumption per $Million  \n",
      "0                 True               False                  3.064052  \n",
      "1                False                True                       NaN  \n",
      "2                False               False                       NaN  \n",
      "3                False               False                       NaN  \n",
      "4                False               False                       inf  \n",
      "5                False               False                       NaN  \n"
     ]
    }
   ],
   "source": [
    "# Create a new feature: Energy Consumption per Million $\n",
    "energy_encoded_df[\"Consumption per $Million\"] = energy_encoded_df[\"Energy Consumption (MWh)\"] / energy_encoded_df[\"Cost (Million $)\"]\n",
    "\n",
    "print(\"\\nData with New Feature (Consumption per $Million):\")\n",
    "print(energy_encoded_df)\n"
   ]
  },
  {
   "cell_type": "markdown",
   "id": "0f95edde",
   "metadata": {},
   "source": [
    "This new feature, Consumption per $Million, calculates how much energy is produced per million dollars spent, providing insight into the efficiency of energy sources."
   ]
  },
  {
   "cell_type": "markdown",
   "id": "b88198e4",
   "metadata": {},
   "source": [
    "#### Conclusion\n",
    "\n",
    "In this lab assignment, we handled missing values in energy consumption data by:\n",
    "\n",
    "    Removing rows with missing values,\n",
    "    Imputing missing values with the mean,\n",
    "    Using forward filling, and\n",
    "    Flagging missing values.\n",
    "\n",
    "We then applied data preprocessing techniques such as normalization, standardization, encoding categorical variables, and feature engineering to enhance the dataset. These methods help prepare data for deeper analysis, modeling, and machine learning applications by ensuring that it’s clean, consistent, and ready for further use."
   ]
  }
 ],
 "metadata": {
  "kernelspec": {
   "display_name": ".venv",
   "language": "python",
   "name": "python3"
  },
  "language_info": {
   "codemirror_mode": {
    "name": "ipython",
    "version": 3
   },
   "file_extension": ".py",
   "mimetype": "text/x-python",
   "name": "python",
   "nbconvert_exporter": "python",
   "pygments_lexer": "ipython3",
   "version": "3.11.4"
  }
 },
 "nbformat": 4,
 "nbformat_minor": 5
}
