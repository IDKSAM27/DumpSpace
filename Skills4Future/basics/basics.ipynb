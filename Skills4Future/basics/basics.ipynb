{
 "cells": [
  {
   "cell_type": "code",
   "execution_count": 1,
   "metadata": {},
   "outputs": [
    {
     "data": {
      "text/plain": [
       "'\\nHello, World!\\nMy name is Sampreet Patil\\nI identify as the Red Power Ranger\\n'"
      ]
     },
     "execution_count": 1,
     "metadata": {},
     "output_type": "execute_result"
    }
   ],
   "source": [
    "# print(\"\")\n",
    "\n",
    "'''\n",
    "Hello, World!\n",
    "My name is Sampreet Patil\n",
    "I identify as the Red Power Ranger\n",
    "'''"
   ]
  },
  {
   "cell_type": "code",
   "execution_count": 2,
   "metadata": {},
   "outputs": [
    {
     "name": "stdout",
     "output_type": "stream",
     "text": [
      "1 2 3\n",
      "(12, 14, 15)\n"
     ]
    }
   ],
   "source": [
    "x, y, z = 1, 2, 3\n",
    "\n",
    "print(x,y,z)\n",
    "\n",
    "numbers = 12, 14, 15\n",
    "a, b, c = numbers\n",
    "\n",
    "print(numbers)"
   ]
  },
  {
   "cell_type": "code",
   "execution_count": 3,
   "metadata": {},
   "outputs": [
    {
     "name": "stdout",
     "output_type": "stream",
     "text": [
      "20\n",
      "20.24\n",
      "3+3i\n",
      "False\n",
      "(1, 2, 3)\n",
      "{1: 'a', 2: 'b', 3: 'c'}\n",
      "Sampreet\n",
      "[2, 'a', 45]\n",
      "{2, 'add', 4.53}\n"
     ]
    }
   ],
   "source": [
    "a = int(20)\n",
    "b = float(20.24)\n",
    "complexc='3+3i'\n",
    "d = bool(False)\n",
    "e = (1,2,3)\n",
    "f = {1:'a', 2:'b', 3:'c'}\n",
    "g = \"Sampreet\"\n",
    "h = [2, 'a', 45]\n",
    "i = {2, 4.53, \"add\"}\n",
    "\n",
    "\n",
    "\n",
    "print(a, b, complexc, d, e, f, g, h, i, sep='\\n')\n",
    "\n"
   ]
  },
  {
   "cell_type": "code",
   "execution_count": 4,
   "metadata": {},
   "outputs": [
    {
     "name": "stdout",
     "output_type": "stream",
     "text": [
      "This is f string command 999999\n"
     ]
    }
   ],
   "source": [
    "num = 999999\n",
    "\n",
    "# f string \n",
    "print(f\"This is f string command {num}\")"
   ]
  },
  {
   "cell_type": "code",
   "execution_count": 5,
   "metadata": {},
   "outputs": [
    {
     "name": "stdout",
     "output_type": "stream",
     "text": [
      "weekly_temperature: [25, 27, 28, 26, 24, 30, 29]\n",
      "Update 1: Weekly Temperatures: [27, 28, 26, 24, 30, 29]\n",
      "Update 2: Weekly Temperatures: [27, 28, 26, 24, 30, 29, 40]\n",
      "Update 3: Weekly Temperatures: [27, 28, 26, 99, 24, 30, 29, 40]\n",
      "Update 4: Weekly Temperatures: [24, 26, 27, 28, 29, 30, 40, 99]\n"
     ]
    },
    {
     "data": {
      "text/plain": [
       "'\\ntuple_wt = tuple(weekly_temperature)\\ntuple_wt.append(10)\\nprint(tuple_wt)\\n'"
      ]
     },
     "execution_count": 5,
     "metadata": {},
     "output_type": "execute_result"
    }
   ],
   "source": [
    "# Operations on list\n",
    "weekly_temperature = [25, 27, 28, 26, 24, 30, 29]\n",
    "\n",
    "print(f\"weekly_temperature: {weekly_temperature}\")\n",
    "\n",
    "weekly_temperature.remove(25)\n",
    "print(f\"Update 1: Weekly Temperatures: {weekly_temperature}\")\n",
    "\n",
    "weekly_temperature.append(40)\n",
    "print(f\"Update 2: Weekly Temperatures: {weekly_temperature}\")\n",
    "\n",
    "weekly_temperature.insert(3, 99)\n",
    "print(f\"Update 3: Weekly Temperatures: {weekly_temperature}\")\n",
    "\n",
    "weekly_temperature.sort()\n",
    "print(f\"Update 4: Weekly Temperatures: {weekly_temperature}\")\n",
    "\n",
    "'''\n",
    "tuple_wt = tuple(weekly_temperature)\n",
    "tuple_wt.append(10)\n",
    "print(tuple_wt)\n",
    "'''"
   ]
  },
  {
   "cell_type": "code",
   "execution_count": 6,
   "metadata": {},
   "outputs": [
    {
     "name": "stdout",
     "output_type": "stream",
     "text": [
      "City Data: {'name': 'Belagavi', 'temperature': 38, 'sustainable': 'no'}\n",
      "Update 1: City Data: {'name': 'Belagavi', 'temperature': 38, 'sustainable': 'no', 'AQI': 150}\n",
      "Update 2: City Data: {'name': 'Belagavi', 'temperature': 38, 'AQI': 150}\n"
     ]
    }
   ],
   "source": [
    "# Dictionary\n",
    "city_data = {\n",
    "    \"name\": \"Belagavi\",\n",
    "    \"temperature\": 38,\n",
    "    \"sustainable\": \"no\",\n",
    "\n",
    "}\n",
    "\n",
    "print(f\"City Data: {city_data}\")\n",
    "\n",
    "city_data['AQI'] =  150\n",
    "print(f\"Update 1: City Data: {city_data}\")\n",
    "\n",
    "del city_data[\"sustainable\"]\n",
    "print(f\"Update 2: City Data: {city_data}\")"
   ]
  },
  {
   "cell_type": "code",
   "execution_count": 7,
   "metadata": {},
   "outputs": [
    {
     "name": "stdout",
     "output_type": "stream",
     "text": [
      "3\n",
      "1\n",
      "2401\n",
      "1.75\n"
     ]
    }
   ],
   "source": [
    "a, b = 7, 4\n",
    "print(a%b, a//b, a**b, a/b, sep='\\n')"
   ]
  },
  {
   "cell_type": "code",
   "execution_count": 8,
   "metadata": {},
   "outputs": [
    {
     "name": "stdout",
     "output_type": "stream",
     "text": [
      "True\n",
      "True\n",
      "True\n",
      "True\n"
     ]
    }
   ],
   "source": [
    "# Operators \n",
    "a, b = 2, 2\n",
    "print(a == b)\n",
    "\n",
    "a += 1\n",
    "print(a > b)\n",
    "\n",
    "b += 2\n",
    "print(a < b)\n",
    "\n",
    "print(a != b)"
   ]
  },
  {
   "cell_type": "code",
   "execution_count": 9,
   "metadata": {},
   "outputs": [
    {
     "name": "stdout",
     "output_type": "stream",
     "text": [
      "8.0\n"
     ]
    }
   ],
   "source": [
    "# Assignment operators\n",
    "x = 10\n",
    "x += 20\n",
    "x -= 10\n",
    "x *= 2\n",
    "x /= 5\n",
    "print(x)"
   ]
  },
  {
   "cell_type": "code",
   "execution_count": 10,
   "metadata": {},
   "outputs": [
    {
     "data": {
      "text/plain": [
       "False"
      ]
     },
     "execution_count": 10,
     "metadata": {},
     "output_type": "execute_result"
    }
   ],
   "source": [
    "# Logical operator\n",
    "x = 2\n",
    "\n",
    "x < 5 and x < 3\n",
    "x < 5 or x < 3\n",
    "not(x < 5 and x < 3)"
   ]
  },
  {
   "cell_type": "code",
   "execution_count": 11,
   "metadata": {},
   "outputs": [
    {
     "name": "stdout",
     "output_type": "stream",
     "text": [
      "True\n",
      "False\n"
     ]
    }
   ],
   "source": [
    "# Identify operator\n",
    "\n",
    "x, y = 2, 2\n",
    "\n",
    "print(x is y)\n",
    "print(x is not y)"
   ]
  },
  {
   "cell_type": "code",
   "execution_count": 12,
   "metadata": {},
   "outputs": [
    {
     "data": {
      "text/plain": [
       "True"
      ]
     },
     "execution_count": 12,
     "metadata": {},
     "output_type": "execute_result"
    }
   ],
   "source": [
    "# Membership operator\n",
    "\n",
    "list = [1, 2, 3]\n",
    "\n",
    "2 in list"
   ]
  },
  {
   "cell_type": "code",
   "execution_count": 13,
   "metadata": {},
   "outputs": [
    {
     "name": "stdout",
     "output_type": "stream",
     "text": [
      "48\n",
      "5\n"
     ]
    }
   ],
   "source": [
    "# Bitwise operator\n",
    "\n",
    "# left shift operator\n",
    "print(3 << 4)\n",
    "'''\n",
    "3 * 2^4\n",
    "3 * 16\n",
    "'''\n",
    "\n",
    "# right shift\n",
    "print(40 >> 3)\n",
    "\n",
    "# 40/2^3"
   ]
  },
  {
   "cell_type": "code",
   "execution_count": 14,
   "metadata": {},
   "outputs": [
    {
     "name": "stdout",
     "output_type": "stream",
     "text": [
      "1.0\n"
     ]
    }
   ],
   "source": [
    "x = float(input('Enter the value'))\n",
    "print(x)"
   ]
  },
  {
   "cell_type": "code",
   "execution_count": 15,
   "metadata": {},
   "outputs": [
    {
     "name": "stdout",
     "output_type": "stream",
     "text": [
      "1.0 is smaller than 10\n"
     ]
    }
   ],
   "source": [
    "num = float(input(\"Enter a value\"))\n",
    "if num > 10:\n",
    "    print(f\"{num} is greater than 10\")\n",
    "\n",
    "elif num == 10:\n",
    "    print(f\"{num} is equal to 10\")\n",
    "\n",
    "else:\n",
    "    print(f\"{num} is smaller than 10\")"
   ]
  },
  {
   "cell_type": "code",
   "execution_count": 16,
   "metadata": {},
   "outputs": [
    {
     "name": "stdout",
     "output_type": "stream",
     "text": [
      "1.0\n"
     ]
    }
   ],
   "source": [
    "# Simple calculator\n",
    "a = float(input(\"Enter first number: \"))\n",
    "b = float(input(\"Enter second number: \"))\n",
    "op = str(input(\"Enter the operator\"))\n",
    "\n",
    "if op == \"+\":\n",
    "    print(a+b)\n",
    "\n",
    "elif op == \"-\":\n",
    "    print(a-b)\n",
    "\n",
    "elif op == \"/\":\n",
    "    print(a/b)\n",
    "\n",
    "else:\n",
    "    print(a*b)"
   ]
  },
  {
   "cell_type": "code",
   "execution_count": 17,
   "metadata": {},
   "outputs": [
    {
     "name": "stdout",
     "output_type": "stream",
     "text": [
      "1\n",
      "2\n",
      "3\n",
      "4\n",
      "5\n",
      "6\n",
      "7\n",
      "8\n",
      "9\n",
      "10\n"
     ]
    }
   ],
   "source": [
    "# Loops\n",
    "# for loop\n",
    "num = int(input(\"Enter a number\"))\n",
    "for i in range(1, 11):\n",
    "    print(i*num)"
   ]
  },
  {
   "cell_type": "code",
   "execution_count": 18,
   "metadata": {},
   "outputs": [
    {
     "name": "stdout",
     "output_type": "stream",
     "text": [
      "Length of the list: 7\n",
      "Average Weekly Temperature: 27.0\n",
      "Sum of the weekly temperature: 189\n"
     ]
    }
   ],
   "source": [
    "sum = 0\n",
    "weekly_temperature = [25, 27, 28, 26, 24, 30, 29]\n",
    "\n",
    "for i in weekly_temperature:\n",
    "    sum += i\n",
    "\n",
    "lenlist = len(weekly_temperature)\n",
    "print(f\"Length of the list: {lenlist}\")\n",
    "avg = sum/lenlist\n",
    "print(f\"Average Weekly Temperature: {avg}\")\n",
    "\n",
    "print(f\"Sum of the weekly temperature: {sum}\")"
   ]
  },
  {
   "cell_type": "code",
   "execution_count": 19,
   "metadata": {},
   "outputs": [
    {
     "name": "stdout",
     "output_type": "stream",
     "text": [
      "The list created: [1]\n",
      "Length of the list: 1\n",
      "Sum of all the elements in the list: 1\n",
      "Average of the list: 1.0\n"
     ]
    }
   ],
   "source": [
    "l = []\n",
    "n = int(input(\"Enter the number of elements in the list\"))\n",
    "\n",
    "for i in range(n):\n",
    "    num = int(input(\"Enter the number:\"))\n",
    "    l.append(num)\n",
    "\n",
    "print(f\"The list created: {l}\")\n",
    "\n",
    "sum = 0\n",
    "\n",
    "for i in l:\n",
    "    sum+=i\n",
    "\n",
    "lenlist = len(l)\n",
    "avg = sum/lenlist\n",
    "print(f\"Length of the list: {lenlist}\") # or simply 'n'\n",
    "print(f\"Sum of all the elements in the list: {sum}\")\n",
    "print(f\"Average of the list: {avg}\")"
   ]
  },
  {
   "cell_type": "code",
   "execution_count": 20,
   "metadata": {},
   "outputs": [
    {
     "name": "stdout",
     "output_type": "stream",
     "text": [
      "0\n",
      "1\n",
      "2\n",
      "3\n",
      "4\n",
      "5\n",
      "6\n",
      "7\n",
      "8\n",
      "9\n",
      "10\n",
      "The value of x is: 11\n"
     ]
    }
   ],
   "source": [
    "# while loop\n",
    "\n",
    "x = 0\n",
    "while x < 11:\n",
    "    print(x)\n",
    "    x+=1\n",
    "print(f\"The value of x is: {x}\")"
   ]
  },
  {
   "cell_type": "code",
   "execution_count": 21,
   "metadata": {},
   "outputs": [
    {
     "name": "stdout",
     "output_type": "stream",
     "text": [
      "Cities with high temperatures(> 26 C):\n",
      "City B - 30 C\n",
      "City E - 28 C\n"
     ]
    }
   ],
   "source": [
    "# High temperature cities\n",
    "\n",
    "climate_data = [\n",
    "    {\"city\": \"City A\", \"temperature\": 25, \"carbon_footprint\": 500},\n",
    "    {\"city\": \"City B\", \"temperature\": 30, \"carbon_footprint\": 350},\n",
    "    {\"city\": \"City C\", \"temperature\": 22, \"carbon_footprint\": 600},\n",
    "    {\"city\": \"City D\", \"temperature\": 15, \"carbon_footprint\": 200},\n",
    "    {\"city\": \"City E\", \"temperature\": 28, \"carbon_footprint\": 450},\n",
    "]\n",
    "\n",
    "temp_threshold = 26\n",
    "\n",
    "high_temp_cities = [city for city in climate_data if city[\"temperature\"] > temp_threshold]\n",
    "\n",
    "print(\"Cities with high temperatures(> 26 C):\")\n",
    "\n",
    "for city in high_temp_cities:\n",
    "    print(f\"{city['city']} - {city['temperature']} C\")"
   ]
  },
  {
   "cell_type": "code",
   "execution_count": 22,
   "metadata": {},
   "outputs": [
    {
     "name": "stdout",
     "output_type": "stream",
     "text": [
      "2100\n",
      "The average of carbon_footprint is: 420.0\n",
      "Sustainable cities\n",
      "City B - 350\n",
      "City D - 200\n"
     ]
    }
   ],
   "source": [
    "# Sustainable Cities\n",
    "\n",
    "climate_data = [\n",
    "    {\"city\": \"City A\", \"temperature\": 25, \"carbon_footprint\": 500},\n",
    "    {\"city\": \"City B\", \"temperature\": 30, \"carbon_footprint\": 350},\n",
    "    {\"city\": \"City C\", \"temperature\": 22, \"carbon_footprint\": 600},\n",
    "    {\"city\": \"City D\", \"temperature\": 15, \"carbon_footprint\": 200},\n",
    "    {\"city\": \"City E\", \"temperature\": 28, \"carbon_footprint\": 450},\n",
    "]\n",
    "length = 0\n",
    "sum = 0\n",
    "for x in climate_data:\n",
    "    sum += x[\"carbon_footprint\"]\n",
    "    length+=1\n",
    "\n",
    "print(sum)\n",
    "\n",
    "avg = sum/length\n",
    "\n",
    "print(f\"The average of carbon_footprint is: {avg}\")\n",
    "\n",
    "susthreshold = avg\n",
    "\n",
    "threshold_cities = [city for city in climate_data if city[\"carbon_footprint\"] < susthreshold]\n",
    "print(\"Sustainable cities\")\n",
    "for city in threshold_cities:\n",
    "    print(f\"{city['city']} - {city['carbon_footprint']}\")"
   ]
  },
  {
   "cell_type": "code",
   "execution_count": 23,
   "metadata": {},
   "outputs": [
    {
     "name": "stdout",
     "output_type": "stream",
     "text": [
      "monaco\n",
      "My body count is: 99 kg\n",
      "monaco\n",
      "My body count is: 99 kg\n"
     ]
    }
   ],
   "source": [
    "# functions\n",
    "\n",
    "def gyan(num): # num is Parameter\n",
    "    print(\"monaco\")\n",
    "    print(f\"My body count is: {num} kg\")\n",
    "\n",
    "gyan(99)\n",
    "\n",
    "if __name__ == \"__main__\":\n",
    "    gyan(99) # 99 is the argument \n"
   ]
  },
  {
   "cell_type": "code",
   "execution_count": 24,
   "metadata": {},
   "outputs": [
    {
     "name": "stdout",
     "output_type": "stream",
     "text": [
      "6\n"
     ]
    }
   ],
   "source": [
    "def add(a,b,c):\n",
    "    return a+b+c\n",
    "\n",
    "print(add(1,2,3)) "
   ]
  },
  {
   "cell_type": "code",
   "execution_count": 25,
   "metadata": {},
   "outputs": [
    {
     "name": "stdout",
     "output_type": "stream",
     "text": [
      "6731.0\n"
     ]
    }
   ],
   "source": [
    "# function for getting carbon footprint value\n",
    "\n",
    "def calculate_c_footprint(energy_consumption, emission_factor, total_waste, ef_w):\n",
    "\n",
    "    ec_cf = energy_consumption * emission_factor\n",
    "    tw_cf = total_waste * ef_w\n",
    "    return ec_cf + tw_cf\n",
    "\n",
    "print(calculate_c_footprint(1000, 0.475, 6800, 0.92))"
   ]
  },
  {
   "cell_type": "code",
   "execution_count": 26,
   "metadata": {},
   "outputs": [
    {
     "data": {
      "text/plain": [
       "'odd'"
      ]
     },
     "execution_count": 26,
     "metadata": {},
     "output_type": "execute_result"
    }
   ],
   "source": [
    "# Write a function to check even or odd\n",
    "\n",
    "def check():\n",
    "    num = int(input(\"Enter a number\"))\n",
    "    if num%2 == 0:\n",
    "        return \"even\"\n",
    "\n",
    "    else:\n",
    "        return \"odd\"\n",
    "\n",
    "check()"
   ]
  },
  {
   "cell_type": "code",
   "execution_count": 27,
   "metadata": {},
   "outputs": [
    {
     "data": {
      "text/plain": [
       "12"
      ]
     },
     "execution_count": 27,
     "metadata": {},
     "output_type": "execute_result"
    }
   ],
   "source": [
    "# Lambda function = one liner function\n",
    "\n",
    "y = lambda x: x+2\n",
    "\n",
    "y(10)"
   ]
  },
  {
   "cell_type": "code",
   "execution_count": 28,
   "metadata": {},
   "outputs": [
    {
     "name": "stdout",
     "output_type": "stream",
     "text": [
      "1 is not a leap year\n"
     ]
    }
   ],
   "source": [
    "leap = lambda year: (year % 4 == 0 and year % 100 != 0) or year % 400 == 0\n",
    "\n",
    "year = int(input(\"Enter a year: \"))\n",
    "print(f\"{year} is a leap year\" if leap(year) else f\"{year} is not a leap year\" )"
   ]
  }
 ],
 "metadata": {
  "kernelspec": {
   "display_name": ".venv",
   "language": "python",
   "name": "python3"
  },
  "language_info": {
   "codemirror_mode": {
    "name": "ipython",
    "version": 3
   },
   "file_extension": ".py",
   "mimetype": "text/x-python",
   "name": "python",
   "nbconvert_exporter": "python",
   "pygments_lexer": "ipython3",
   "version": "3.11.4"
  }
 },
 "nbformat": 4,
 "nbformat_minor": 2
}
