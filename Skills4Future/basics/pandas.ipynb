{
 "cells": [
  {
   "cell_type": "markdown",
   "metadata": {},
   "source": [
    "Pandas"
   ]
  },
  {
   "cell_type": "code",
   "execution_count": null,
   "metadata": {},
   "outputs": [],
   "source": [
    "import pandas as pd\n",
    "\n",
    "# Sample renewable energy sources data\n",
    "renewable_sources = [\"Solar\", \"Wind\", \"Hydropower\", \"Geothermal\", \"Biomass\"]\n",
    "\n",
    "# Sample green technology project data (for DataFrame)\n",
    "data = {\n",
    "    \"Project\": [\"Solar Farm A\", \"Wind Turbine X\", \"Hydropower Y\", \"Solar Roof Z\", \"Geothermal Plant P\"],\n",
    "    \"Technology\": [\"Solar\", \"Wind\", \"Hydropower\", \"Solar\", \"Geothermal\"],\n",
    "    \"Capacity (MW)\": [150, 300, 200, 50, 100],  # Megawatts\n",
    "    \"Cost (Million $)\": [200, 400, 350, 100, 250],  # Project cost\n",
    "    \"Location\": [\"California\", \"Texas\", \"Washington\", \"Nevada\", \"Idaho\"],\n",
    "    \"Completion Year\": [2023, 2024, 2022, 2025, 2023]\n",
    "}\n",
    "\n",
    "renewable_series = pd.Series(renewable_sources)\n",
    "\n",
    "print(\"Renewable Energy Sources:\")\n",
    "print(renewable_series)"
   ]
  },
  {
   "cell_type": "code",
   "execution_count": null,
   "metadata": {},
   "outputs": [],
   "source": [
    "project_df = pd.DataFrame(data)\n",
    "\n",
    "print(\"\\nGreen Technology Projects DataFrame:\")\n",
    "# In Pandas, .head() is a method used to display the first few rows of a DataFrame\n",
    "project_df.head()"
   ]
  },
  {
   "cell_type": "code",
   "execution_count": null,
   "metadata": {},
   "outputs": [],
   "source": [
    "# Shows the tail of the table\n",
    "project_df.tail(3)"
   ]
  },
  {
   "cell_type": "code",
   "execution_count": null,
   "metadata": {},
   "outputs": [],
   "source": [
    "# Slicing: shows the middle values or the sliced values\n",
    "project_df[2:4]"
   ]
  },
  {
   "cell_type": "code",
   "execution_count": null,
   "metadata": {},
   "outputs": [],
   "source": [
    "# Data types from the given dataframe\n",
    "project_df.dtypes"
   ]
  },
  {
   "cell_type": "code",
   "execution_count": null,
   "metadata": {},
   "outputs": [],
   "source": [
    "# Rows and columns numbers\n",
    "project_df.shape"
   ]
  },
  {
   "cell_type": "code",
   "execution_count": null,
   "metadata": {},
   "outputs": [],
   "source": [
    "# Columns\n",
    "project_df.columns"
   ]
  },
  {
   "cell_type": "code",
   "execution_count": null,
   "metadata": {},
   "outputs": [],
   "source": [
    "project_df.info()"
   ]
  },
  {
   "cell_type": "code",
   "execution_count": null,
   "metadata": {},
   "outputs": [],
   "source": [
    "project_df.describe()"
   ]
  },
  {
   "cell_type": "code",
   "execution_count": null,
   "metadata": {},
   "outputs": [],
   "source": [
    "type(project_df[\"Project\"])"
   ]
  },
  {
   "cell_type": "code",
   "execution_count": null,
   "metadata": {},
   "outputs": [],
   "source": [
    "project_df[[\"Project\", 'Capacity (MW)']]"
   ]
  },
  {
   "cell_type": "code",
   "execution_count": null,
   "metadata": {},
   "outputs": [],
   "source": [
    "project_df.iloc[:3, [1,4]]"
   ]
  },
  {
   "cell_type": "code",
   "execution_count": null,
   "metadata": {},
   "outputs": [],
   "source": [
    "# filter projects with capacity greather than 100 MW\n",
    "high_capacity_project = project_df[project_df[\"Capacity (MW)\"] > 100]\n",
    "\n",
    "print(\"\\nProject with Capacity Greater than 100 MW:\")\n",
    "print(high_capacity_project)"
   ]
  },
  {
   "cell_type": "code",
   "execution_count": null,
   "metadata": {},
   "outputs": [],
   "source": [
    "# Add a new column for cost per MW\n",
    "# Also called feature engineering\n",
    "project_df[\"Cost per MW\"] = project_df[\"Cost (Million $)\"] / project_df[\"Capacity (MW)\"]\n",
    "\n",
    "print(\"\\nDataFrame with Cost per MW:\")\n",
    "project_df.head()"
   ]
  },
  {
   "cell_type": "code",
   "execution_count": null,
   "metadata": {},
   "outputs": [],
   "source": [
    "# To check null values if exists\n",
    "project_df.isnull().sum()"
   ]
  },
  {
   "cell_type": "markdown",
   "metadata": {},
   "source": [
    "Grouping data:"
   ]
  },
  {
   "cell_type": "code",
   "execution_count": null,
   "metadata": {},
   "outputs": [],
   "source": [
    "# Aggregate the total capacity and cost\n",
    "total_capacity = project_df[\"Capacity (MW)\"].sum()\n",
    "total_cost = project_df[\"Cost (Million $)\"].sum()\n",
    "\n",
    "print(f\"\\nTotal Capacity of all projects: {total_capacity} MW\")\n",
    "print(f\"Total Cost of all projects: ${total_cost} million\")"
   ]
  },
  {
   "cell_type": "code",
   "execution_count": null,
   "metadata": {},
   "outputs": [],
   "source": [
    "# Grouping the data\n",
    "# Group by 'Technology' and calculate total capacity for each type\n",
    "grouped_data = project_df.groupby(\"Technology\")[\"Capacity (MW)\"].sum()\n",
    "\n",
    "print(\"\\nTotal Capacity by Technology:\")\n",
    "print(grouped_data)"
   ]
  },
  {
   "cell_type": "code",
   "execution_count": null,
   "metadata": {},
   "outputs": [],
   "source": []
  }
 ],
 "metadata": {
  "kernelspec": {
   "display_name": ".venv",
   "language": "python",
   "name": "python3"
  },
  "language_info": {
   "codemirror_mode": {
    "name": "ipython",
    "version": 3
   },
   "file_extension": ".py",
   "mimetype": "text/x-python",
   "name": "python",
   "nbconvert_exporter": "python",
   "pygments_lexer": "ipython3",
   "version": "3.11.4"
  }
 },
 "nbformat": 4,
 "nbformat_minor": 2
}
