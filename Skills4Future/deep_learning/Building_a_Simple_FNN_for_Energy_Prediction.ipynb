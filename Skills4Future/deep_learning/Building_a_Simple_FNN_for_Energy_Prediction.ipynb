{
 "cells": [
  {
   "cell_type": "code",
   "execution_count": 1,
   "id": "ecad13c5-cfdf-44e1-a1d2-f41ef1429b36",
   "metadata": {},
   "outputs": [],
   "source": [
    "import numpy as np\n",
    "import pandas as pd\n",
    "import matplotlib.pyplot as plt\n",
    "\n",
    "from sklearn.model_selection import train_test_split\n",
    "from sklearn.preprocessing import StandardScaler\n",
    "\n",
    "from tensorflow.keras.models import Sequential\n",
    "from tensorflow.keras.layers import Dense"
   ]
  },
  {
   "cell_type": "code",
   "execution_count": 2,
   "id": "f88094e4-4c8e-4641-86e7-aa457963f2b1",
   "metadata": {},
   "outputs": [
    {
     "data": {
      "text/html": [
       "<div>\n",
       "<style scoped>\n",
       "    .dataframe tbody tr th:only-of-type {\n",
       "        vertical-align: middle;\n",
       "    }\n",
       "\n",
       "    .dataframe tbody tr th {\n",
       "        vertical-align: top;\n",
       "    }\n",
       "\n",
       "    .dataframe thead th {\n",
       "        text-align: right;\n",
       "    }\n",
       "</style>\n",
       "<table border=\"1\" class=\"dataframe\">\n",
       "  <thead>\n",
       "    <tr style=\"text-align: right;\">\n",
       "      <th></th>\n",
       "      <th>temperature</th>\n",
       "      <th>humidity</th>\n",
       "      <th>wind_speed</th>\n",
       "      <th>solar_irradiance</th>\n",
       "      <th>energy_consumption</th>\n",
       "    </tr>\n",
       "  </thead>\n",
       "  <tbody>\n",
       "    <tr>\n",
       "      <th>0</th>\n",
       "      <td>24.363503</td>\n",
       "      <td>31.107976</td>\n",
       "      <td>5.234114</td>\n",
       "      <td>705.432695</td>\n",
       "      <td>307.398145</td>\n",
       "    </tr>\n",
       "    <tr>\n",
       "      <th>1</th>\n",
       "      <td>38.767858</td>\n",
       "      <td>52.514057</td>\n",
       "      <td>4.939576</td>\n",
       "      <td>817.013257</td>\n",
       "      <td>412.444548</td>\n",
       "    </tr>\n",
       "    <tr>\n",
       "      <th>2</th>\n",
       "      <td>33.299849</td>\n",
       "      <td>72.376750</td>\n",
       "      <td>18.125092</td>\n",
       "      <td>325.421109</td>\n",
       "      <td>392.072418</td>\n",
       "    </tr>\n",
       "    <tr>\n",
       "      <th>3</th>\n",
       "      <td>29.966462</td>\n",
       "      <td>63.933493</td>\n",
       "      <td>4.990924</td>\n",
       "      <td>662.386690</td>\n",
       "      <td>119.254957</td>\n",
       "    </tr>\n",
       "    <tr>\n",
       "      <th>4</th>\n",
       "      <td>18.900466</td>\n",
       "      <td>68.393669</td>\n",
       "      <td>5.438995</td>\n",
       "      <td>614.571385</td>\n",
       "      <td>117.162261</td>\n",
       "    </tr>\n",
       "  </tbody>\n",
       "</table>\n",
       "</div>"
      ],
      "text/plain": [
       "   temperature   humidity  wind_speed  solar_irradiance  energy_consumption\n",
       "0    24.363503  31.107976    5.234114        705.432695          307.398145\n",
       "1    38.767858  52.514057    4.939576        817.013257          412.444548\n",
       "2    33.299849  72.376750   18.125092        325.421109          392.072418\n",
       "3    29.966462  63.933493    4.990924        662.386690          119.254957\n",
       "4    18.900466  68.393669    5.438995        614.571385          117.162261"
      ]
     },
     "execution_count": 2,
     "metadata": {},
     "output_type": "execute_result"
    }
   ],
   "source": [
    "data = pd.read_csv('csv/ec_data.csv')\n",
    "\n",
    "data.head()"
   ]
  },
  {
   "cell_type": "code",
   "execution_count": 3,
   "id": "eb5375d5-e9c9-428d-a3a4-8891f1ad6e25",
   "metadata": {},
   "outputs": [
    {
     "data": {
      "text/html": [
       "<div>\n",
       "<style scoped>\n",
       "    .dataframe tbody tr th:only-of-type {\n",
       "        vertical-align: middle;\n",
       "    }\n",
       "\n",
       "    .dataframe tbody tr th {\n",
       "        vertical-align: top;\n",
       "    }\n",
       "\n",
       "    .dataframe thead th {\n",
       "        text-align: right;\n",
       "    }\n",
       "</style>\n",
       "<table border=\"1\" class=\"dataframe\">\n",
       "  <thead>\n",
       "    <tr style=\"text-align: right;\">\n",
       "      <th></th>\n",
       "      <th>temperature</th>\n",
       "      <th>humidity</th>\n",
       "      <th>wind_speed</th>\n",
       "      <th>solar_irradiance</th>\n",
       "      <th>energy_consumption</th>\n",
       "    </tr>\n",
       "  </thead>\n",
       "  <tbody>\n",
       "    <tr>\n",
       "      <th>count</th>\n",
       "      <td>1000.000000</td>\n",
       "      <td>1000.000000</td>\n",
       "      <td>1000.000000</td>\n",
       "      <td>1000.000000</td>\n",
       "      <td>1000.000000</td>\n",
       "    </tr>\n",
       "    <tr>\n",
       "      <th>mean</th>\n",
       "      <td>27.256414</td>\n",
       "      <td>50.421038</td>\n",
       "      <td>10.048115</td>\n",
       "      <td>541.337543</td>\n",
       "      <td>272.347395</td>\n",
       "    </tr>\n",
       "    <tr>\n",
       "      <th>std</th>\n",
       "      <td>7.303434</td>\n",
       "      <td>17.531394</td>\n",
       "      <td>5.813484</td>\n",
       "      <td>257.840410</td>\n",
       "      <td>129.064474</td>\n",
       "    </tr>\n",
       "    <tr>\n",
       "      <th>min</th>\n",
       "      <td>15.115801</td>\n",
       "      <td>20.193096</td>\n",
       "      <td>0.000233</td>\n",
       "      <td>100.588052</td>\n",
       "      <td>50.013823</td>\n",
       "    </tr>\n",
       "    <tr>\n",
       "      <th>25%</th>\n",
       "      <td>20.899332</td>\n",
       "      <td>34.464456</td>\n",
       "      <td>5.227020</td>\n",
       "      <td>317.710693</td>\n",
       "      <td>160.238303</td>\n",
       "    </tr>\n",
       "    <tr>\n",
       "      <th>50%</th>\n",
       "      <td>27.420184</td>\n",
       "      <td>51.124034</td>\n",
       "      <td>10.012278</td>\n",
       "      <td>535.851355</td>\n",
       "      <td>272.569144</td>\n",
       "    </tr>\n",
       "    <tr>\n",
       "      <th>75%</th>\n",
       "      <td>33.607990</td>\n",
       "      <td>65.627903</td>\n",
       "      <td>15.182071</td>\n",
       "      <td>763.786729</td>\n",
       "      <td>382.997053</td>\n",
       "    </tr>\n",
       "    <tr>\n",
       "      <th>max</th>\n",
       "      <td>39.992942</td>\n",
       "      <td>79.964824</td>\n",
       "      <td>19.956417</td>\n",
       "      <td>999.601933</td>\n",
       "      <td>498.987225</td>\n",
       "    </tr>\n",
       "  </tbody>\n",
       "</table>\n",
       "</div>"
      ],
      "text/plain": [
       "       temperature     humidity   wind_speed  solar_irradiance  \\\n",
       "count  1000.000000  1000.000000  1000.000000       1000.000000   \n",
       "mean     27.256414    50.421038    10.048115        541.337543   \n",
       "std       7.303434    17.531394     5.813484        257.840410   \n",
       "min      15.115801    20.193096     0.000233        100.588052   \n",
       "25%      20.899332    34.464456     5.227020        317.710693   \n",
       "50%      27.420184    51.124034    10.012278        535.851355   \n",
       "75%      33.607990    65.627903    15.182071        763.786729   \n",
       "max      39.992942    79.964824    19.956417        999.601933   \n",
       "\n",
       "       energy_consumption  \n",
       "count         1000.000000  \n",
       "mean           272.347395  \n",
       "std            129.064474  \n",
       "min             50.013823  \n",
       "25%            160.238303  \n",
       "50%            272.569144  \n",
       "75%            382.997053  \n",
       "max            498.987225  "
      ]
     },
     "execution_count": 3,
     "metadata": {},
     "output_type": "execute_result"
    }
   ],
   "source": [
    "data.describe()"
   ]
  },
  {
   "cell_type": "code",
   "execution_count": 4,
   "id": "6f02a1e6-43fc-4eee-b25d-5d4ffbb98ec5",
   "metadata": {},
   "outputs": [
    {
     "data": {
      "text/plain": [
       "temperature           0\n",
       "humidity              0\n",
       "wind_speed            0\n",
       "solar_irradiance      0\n",
       "energy_consumption    0\n",
       "dtype: int64"
      ]
     },
     "execution_count": 4,
     "metadata": {},
     "output_type": "execute_result"
    }
   ],
   "source": [
    "data.isnull().sum()"
   ]
  },
  {
   "cell_type": "code",
   "execution_count": 5,
   "id": "5fdeaafc-8ee5-46b0-92a9-e3b120a90b9d",
   "metadata": {},
   "outputs": [],
   "source": [
    "X = data[['temperature', 'humidity', 'wind_speed', 'solar_irradiance']].values\n",
    "y = data['energy_consumption'].values"
   ]
  },
  {
   "cell_type": "code",
   "execution_count": 6,
   "id": "b42cba18-b257-4dd5-827f-6a7357a020bd",
   "metadata": {},
   "outputs": [],
   "source": [
    "X_train, X_test, y_train, y_test = train_test_split(X, y, test_size=0.2, random_state=42)"
   ]
  },
  {
   "cell_type": "code",
   "execution_count": 7,
   "id": "44fc6c3f-2df5-4f80-958b-e65449affe11",
   "metadata": {},
   "outputs": [],
   "source": [
    "scaler = StandardScaler()\n",
    "X_train = scaler.fit_transform(X_train)\n",
    "# What is fit transform?\n",
    "# Fit method is calculating the mean and variance of each of the features present in our data.\n",
    "X_test = scaler.transform(X_test)\n",
    "# what is transform?\n",
    "# Transform method is transforming all the features using the respective mean and variance."
   ]
  },
  {
   "cell_type": "code",
   "execution_count": 8,
   "id": "f97cc8cf-8a06-4083-a0d1-e4e9252b8e4e",
   "metadata": {},
   "outputs": [
    {
     "data": {
      "text/plain": [
       "4"
      ]
     },
     "execution_count": 8,
     "metadata": {},
     "output_type": "execute_result"
    }
   ],
   "source": [
    "X_train.shape[1]"
   ]
  },
  {
   "cell_type": "code",
   "execution_count": 9,
   "id": "304445b4-6200-4d4e-badb-f5fe08c10820",
   "metadata": {},
   "outputs": [
    {
     "name": "stderr",
     "output_type": "stream",
     "text": [
      "d:\\Code_dumpspace\\.venv\\Lib\\site-packages\\keras\\src\\layers\\core\\dense.py:87: UserWarning: Do not pass an `input_shape`/`input_dim` argument to a layer. When using Sequential models, prefer using an `Input(shape)` object as the first layer in the model instead.\n",
      "  super().__init__(activity_regularizer=activity_regularizer, **kwargs)\n"
     ]
    }
   ],
   "source": [
    "model1 = Sequential([\n",
    "    Dense(64, activation='relu', input_shape=(4,)),  # Input layer with 64 neurons\n",
    "    Dense(32, activation='relu'),  # Hidden layer with 32 neurons\n",
    "    Dense(1)  # Output layer for regression (1 neuron)\n",
    "])"
   ]
  },
  {
   "cell_type": "code",
   "execution_count": 10,
   "id": "edd8fa6f-1add-405d-bdde-b8815b23573e",
   "metadata": {},
   "outputs": [],
   "source": [
    "model2 = Sequential([\n",
    "    Dense(128, activation='relu', input_shape=(X_train.shape[1],)),  # Input layer with 128 neurons\n",
    "    Dense(64, activation='relu'),  # Hidden layer with 64 neurons\n",
    "    Dense(32, activation='relu'),  # Hidden layer with 32 neurons\n",
    "    Dense(1)  # Output layer for regression (1 neuron)\n",
    "])"
   ]
  },
  {
   "cell_type": "code",
   "execution_count": 34,
   "id": "dcda3536",
   "metadata": {},
   "outputs": [
    {
     "name": "stderr",
     "output_type": "stream",
     "text": [
      "d:\\Code_dumpspace\\.venv\\Lib\\site-packages\\keras\\src\\layers\\core\\dense.py:87: UserWarning: Do not pass an `input_shape`/`input_dim` argument to a layer. When using Sequential models, prefer using an `Input(shape)` object as the first layer in the model instead.\n",
      "  super().__init__(activity_regularizer=activity_regularizer, **kwargs)\n"
     ]
    }
   ],
   "source": [
    "model3 = Sequential([\n",
    "    Dense(512, activation='relu', input_shape=(X_train.shape[1],)),  # Input layer with 512 neurons\n",
    "    Dense(256, activation='relu', input_shape=(X_train.shape[1],)),  # Input layer with 256 neurons\n",
    "    Dense(128, activation='relu'),  # Hidden layer with 128 neurons\n",
    "    Dense(64, activation='relu'),  # Hidden layer with 64 neurons\n",
    "    Dense(32, activation='relu'),  # Hidden layer with 32 neurons\n",
    "    Dense(1)  # Output layer for regression (1 neuron)\n",
    "])"
   ]
  },
  {
   "cell_type": "markdown",
   "id": "040d9422",
   "metadata": {},
   "source": [
    "Hyperparameter Tuning: changing the parameters\n",
    "Like:\n",
    "1. No of neural network\n",
    "2. No of layers\n",
    "3. No of Epochs\n",
    "4. No of Batch size\n",
    "5. Validation\n",
    "6. "
   ]
  },
  {
   "cell_type": "code",
   "execution_count": 35,
   "id": "e19c54dc-8376-430e-95a5-e815eea90a60",
   "metadata": {},
   "outputs": [],
   "source": [
    "model3.compile(optimizer='adam', loss='mse', metrics=['mae'])  \n",
    "# Mean Squared Error and Mean Absolute Error"
   ]
  },
  {
   "cell_type": "code",
   "execution_count": null,
   "id": "5e0b1f47-46b7-4723-a7f4-87be961d42c0",
   "metadata": {},
   "outputs": [
    {
     "name": "stdout",
     "output_type": "stream",
     "text": [
      "Epoch 1/60\n",
      "\u001b[1m64/64\u001b[0m \u001b[32m━━━━━━━━━━━━━━━━━━━━\u001b[0m\u001b[37m\u001b[0m \u001b[1m1s\u001b[0m 4ms/step - loss: 17723.0605 - mae: 114.5829 - val_loss: 19216.4805 - val_mae: 118.2791\n",
      "Epoch 2/60\n",
      "\u001b[1m64/64\u001b[0m \u001b[32m━━━━━━━━━━━━━━━━━━━━\u001b[0m\u001b[37m\u001b[0m \u001b[1m0s\u001b[0m 3ms/step - loss: 18191.8906 - mae: 117.0331 - val_loss: 17847.3359 - val_mae: 114.2897\n",
      "Epoch 3/60\n",
      "\u001b[1m64/64\u001b[0m \u001b[32m━━━━━━━━━━━━━━━━━━━━\u001b[0m\u001b[37m\u001b[0m \u001b[1m0s\u001b[0m 3ms/step - loss: 16923.9551 - mae: 109.7779 - val_loss: 17899.2246 - val_mae: 115.3374\n",
      "Epoch 4/60\n",
      "\u001b[1m64/64\u001b[0m \u001b[32m━━━━━━━━━━━━━━━━━━━━\u001b[0m\u001b[37m\u001b[0m \u001b[1m0s\u001b[0m 3ms/step - loss: 16742.4531 - mae: 111.2010 - val_loss: 18499.6836 - val_mae: 116.8714\n",
      "Epoch 5/60\n",
      "\u001b[1m64/64\u001b[0m \u001b[32m━━━━━━━━━━━━━━━━━━━━\u001b[0m\u001b[37m\u001b[0m \u001b[1m0s\u001b[0m 3ms/step - loss: 17433.5879 - mae: 113.4937 - val_loss: 17760.3867 - val_mae: 115.8757\n",
      "Epoch 6/60\n",
      "\u001b[1m64/64\u001b[0m \u001b[32m━━━━━━━━━━━━━━━━━━━━\u001b[0m\u001b[37m\u001b[0m \u001b[1m0s\u001b[0m 3ms/step - loss: 16074.5166 - mae: 108.7850 - val_loss: 18950.4355 - val_mae: 118.1826\n",
      "Epoch 7/60\n",
      "\u001b[1m64/64\u001b[0m \u001b[32m━━━━━━━━━━━━━━━━━━━━\u001b[0m\u001b[37m\u001b[0m \u001b[1m0s\u001b[0m 3ms/step - loss: 17599.3066 - mae: 114.4182 - val_loss: 18370.7012 - val_mae: 116.4925\n",
      "Epoch 8/60\n",
      "\u001b[1m64/64\u001b[0m \u001b[32m━━━━━━━━━━━━━━━━━━━━\u001b[0m\u001b[37m\u001b[0m \u001b[1m0s\u001b[0m 3ms/step - loss: 16292.3320 - mae: 109.7777 - val_loss: 17685.7227 - val_mae: 114.6206\n",
      "Epoch 9/60\n",
      "\u001b[1m64/64\u001b[0m \u001b[32m━━━━━━━━━━━━━━━━━━━━\u001b[0m\u001b[37m\u001b[0m \u001b[1m0s\u001b[0m 3ms/step - loss: 16901.7559 - mae: 111.0848 - val_loss: 18185.0352 - val_mae: 116.5758\n",
      "Epoch 10/60\n",
      "\u001b[1m64/64\u001b[0m \u001b[32m━━━━━━━━━━━━━━━━━━━━\u001b[0m\u001b[37m\u001b[0m \u001b[1m0s\u001b[0m 3ms/step - loss: 16729.5059 - mae: 112.4785 - val_loss: 18963.6953 - val_mae: 117.8885\n",
      "Epoch 11/60\n",
      "\u001b[1m64/64\u001b[0m \u001b[32m━━━━━━━━━━━━━━━━━━━━\u001b[0m\u001b[37m\u001b[0m \u001b[1m0s\u001b[0m 3ms/step - loss: 16707.3965 - mae: 112.0123 - val_loss: 18204.8242 - val_mae: 114.0439\n",
      "Epoch 12/60\n",
      "\u001b[1m64/64\u001b[0m \u001b[32m━━━━━━━━━━━━━━━━━━━━\u001b[0m\u001b[37m\u001b[0m \u001b[1m0s\u001b[0m 3ms/step - loss: 17910.9238 - mae: 116.0165 - val_loss: 17763.2168 - val_mae: 115.4579\n",
      "Epoch 13/60\n",
      "\u001b[1m64/64\u001b[0m \u001b[32m━━━━━━━━━━━━━━━━━━━━\u001b[0m\u001b[37m\u001b[0m \u001b[1m0s\u001b[0m 3ms/step - loss: 16230.1436 - mae: 109.5680 - val_loss: 17789.0723 - val_mae: 115.3457\n",
      "Epoch 14/60\n",
      "\u001b[1m64/64\u001b[0m \u001b[32m━━━━━━━━━━━━━━━━━━━━\u001b[0m\u001b[37m\u001b[0m \u001b[1m0s\u001b[0m 3ms/step - loss: 17404.6797 - mae: 115.1501 - val_loss: 17614.1719 - val_mae: 115.6340\n",
      "Epoch 15/60\n",
      "\u001b[1m64/64\u001b[0m \u001b[32m━━━━━━━━━━━━━━━━━━━━\u001b[0m\u001b[37m\u001b[0m \u001b[1m0s\u001b[0m 3ms/step - loss: 17649.2148 - mae: 116.5502 - val_loss: 17642.2520 - val_mae: 115.4634\n",
      "Epoch 16/60\n",
      "\u001b[1m64/64\u001b[0m \u001b[32m━━━━━━━━━━━━━━━━━━━━\u001b[0m\u001b[37m\u001b[0m \u001b[1m0s\u001b[0m 3ms/step - loss: 16337.7070 - mae: 108.9548 - val_loss: 17853.5781 - val_mae: 115.7572\n",
      "Epoch 17/60\n",
      "\u001b[1m64/64\u001b[0m \u001b[32m━━━━━━━━━━━━━━━━━━━━\u001b[0m\u001b[37m\u001b[0m \u001b[1m0s\u001b[0m 4ms/step - loss: 15123.5264 - mae: 105.2014 - val_loss: 18673.9707 - val_mae: 117.3164\n",
      "Epoch 18/60\n",
      "\u001b[1m64/64\u001b[0m \u001b[32m━━━━━━━━━━━━━━━━━━━━\u001b[0m\u001b[37m\u001b[0m \u001b[1m0s\u001b[0m 3ms/step - loss: 18298.3965 - mae: 117.3051 - val_loss: 19447.2832 - val_mae: 119.7442\n",
      "Epoch 19/60\n",
      "\u001b[1m64/64\u001b[0m \u001b[32m━━━━━━━━━━━━━━━━━━━━\u001b[0m\u001b[37m\u001b[0m \u001b[1m0s\u001b[0m 3ms/step - loss: 15824.7217 - mae: 107.3869 - val_loss: 17457.9277 - val_mae: 114.5934\n",
      "Epoch 20/60\n",
      "\u001b[1m64/64\u001b[0m \u001b[32m━━━━━━━━━━━━━━━━━━━━\u001b[0m\u001b[37m\u001b[0m \u001b[1m0s\u001b[0m 3ms/step - loss: 17150.2988 - mae: 112.7146 - val_loss: 18006.0215 - val_mae: 116.5155\n",
      "Epoch 21/60\n",
      "\u001b[1m64/64\u001b[0m \u001b[32m━━━━━━━━━━━━━━━━━━━━\u001b[0m\u001b[37m\u001b[0m \u001b[1m0s\u001b[0m 3ms/step - loss: 16609.5254 - mae: 111.2097 - val_loss: 17344.8320 - val_mae: 114.5134\n",
      "Epoch 22/60\n",
      "\u001b[1m64/64\u001b[0m \u001b[32m━━━━━━━━━━━━━━━━━━━━\u001b[0m\u001b[37m\u001b[0m \u001b[1m0s\u001b[0m 3ms/step - loss: 16647.0547 - mae: 110.5363 - val_loss: 17922.9336 - val_mae: 115.2065\n",
      "Epoch 23/60\n",
      "\u001b[1m64/64\u001b[0m \u001b[32m━━━━━━━━━━━━━━━━━━━━\u001b[0m\u001b[37m\u001b[0m \u001b[1m0s\u001b[0m 3ms/step - loss: 16528.3750 - mae: 110.8837 - val_loss: 17603.8164 - val_mae: 114.0518\n",
      "Epoch 24/60\n",
      "\u001b[1m64/64\u001b[0m \u001b[32m━━━━━━━━━━━━━━━━━━━━\u001b[0m\u001b[37m\u001b[0m \u001b[1m0s\u001b[0m 3ms/step - loss: 17037.7207 - mae: 112.8033 - val_loss: 17348.6211 - val_mae: 114.0083\n",
      "Epoch 25/60\n",
      "\u001b[1m64/64\u001b[0m \u001b[32m━━━━━━━━━━━━━━━━━━━━\u001b[0m\u001b[37m\u001b[0m \u001b[1m0s\u001b[0m 3ms/step - loss: 17582.0996 - mae: 114.4039 - val_loss: 17638.7070 - val_mae: 114.7571\n",
      "Epoch 26/60\n",
      "\u001b[1m64/64\u001b[0m \u001b[32m━━━━━━━━━━━━━━━━━━━━\u001b[0m\u001b[37m\u001b[0m \u001b[1m0s\u001b[0m 3ms/step - loss: 15541.7275 - mae: 106.3048 - val_loss: 17471.1738 - val_mae: 114.5323\n",
      "Epoch 27/60\n",
      "\u001b[1m64/64\u001b[0m \u001b[32m━━━━━━━━━━━━━━━━━━━━\u001b[0m\u001b[37m\u001b[0m \u001b[1m0s\u001b[0m 3ms/step - loss: 15653.3271 - mae: 107.4719 - val_loss: 17228.6445 - val_mae: 114.0322\n",
      "Epoch 28/60\n",
      "\u001b[1m64/64\u001b[0m \u001b[32m━━━━━━━━━━━━━━━━━━━━\u001b[0m\u001b[37m\u001b[0m \u001b[1m0s\u001b[0m 3ms/step - loss: 15553.8672 - mae: 106.9846 - val_loss: 18342.0293 - val_mae: 116.0598\n",
      "Epoch 29/60\n",
      "\u001b[1m64/64\u001b[0m \u001b[32m━━━━━━━━━━━━━━━━━━━━\u001b[0m\u001b[37m\u001b[0m \u001b[1m0s\u001b[0m 3ms/step - loss: 17336.1055 - mae: 114.0419 - val_loss: 20108.7637 - val_mae: 120.8306\n",
      "Epoch 30/60\n",
      "\u001b[1m64/64\u001b[0m \u001b[32m━━━━━━━━━━━━━━━━━━━━\u001b[0m\u001b[37m\u001b[0m \u001b[1m0s\u001b[0m 3ms/step - loss: 16514.1055 - mae: 109.6373 - val_loss: 17877.2207 - val_mae: 115.0531\n",
      "Epoch 31/60\n",
      "\u001b[1m64/64\u001b[0m \u001b[32m━━━━━━━━━━━━━━━━━━━━\u001b[0m\u001b[37m\u001b[0m \u001b[1m0s\u001b[0m 3ms/step - loss: 16832.3984 - mae: 110.4555 - val_loss: 17567.4492 - val_mae: 114.5102\n",
      "Epoch 32/60\n",
      "\u001b[1m64/64\u001b[0m \u001b[32m━━━━━━━━━━━━━━━━━━━━\u001b[0m\u001b[37m\u001b[0m \u001b[1m0s\u001b[0m 3ms/step - loss: 15606.8643 - mae: 106.9345 - val_loss: 17424.2773 - val_mae: 114.5815\n",
      "Epoch 33/60\n",
      "\u001b[1m64/64\u001b[0m \u001b[32m━━━━━━━━━━━━━━━━━━━━\u001b[0m\u001b[37m\u001b[0m \u001b[1m0s\u001b[0m 3ms/step - loss: 16100.3594 - mae: 108.7398 - val_loss: 17268.4180 - val_mae: 113.7277\n",
      "Epoch 34/60\n",
      "\u001b[1m64/64\u001b[0m \u001b[32m━━━━━━━━━━━━━━━━━━━━\u001b[0m\u001b[37m\u001b[0m \u001b[1m0s\u001b[0m 3ms/step - loss: 16137.8857 - mae: 110.4749 - val_loss: 18206.3730 - val_mae: 116.4981\n",
      "Epoch 35/60\n",
      "\u001b[1m64/64\u001b[0m \u001b[32m━━━━━━━━━━━━━━━━━━━━\u001b[0m\u001b[37m\u001b[0m \u001b[1m0s\u001b[0m 3ms/step - loss: 16357.4580 - mae: 110.7612 - val_loss: 17437.0605 - val_mae: 114.4642\n",
      "Epoch 36/60\n",
      "\u001b[1m64/64\u001b[0m \u001b[32m━━━━━━━━━━━━━━━━━━━━\u001b[0m\u001b[37m\u001b[0m \u001b[1m0s\u001b[0m 3ms/step - loss: 16510.5098 - mae: 110.5407 - val_loss: 17422.1094 - val_mae: 114.7020\n",
      "Epoch 37/60\n",
      "\u001b[1m64/64\u001b[0m \u001b[32m━━━━━━━━━━━━━━━━━━━━\u001b[0m\u001b[37m\u001b[0m \u001b[1m0s\u001b[0m 3ms/step - loss: 15163.7139 - mae: 106.2390 - val_loss: 18065.6875 - val_mae: 116.7097\n",
      "Epoch 38/60\n",
      "\u001b[1m64/64\u001b[0m \u001b[32m━━━━━━━━━━━━━━━━━━━━\u001b[0m\u001b[37m\u001b[0m \u001b[1m0s\u001b[0m 3ms/step - loss: 16213.2490 - mae: 110.4629 - val_loss: 18688.3223 - val_mae: 117.7574\n",
      "Epoch 39/60\n",
      "\u001b[1m64/64\u001b[0m \u001b[32m━━━━━━━━━━━━━━━━━━━━\u001b[0m\u001b[37m\u001b[0m \u001b[1m0s\u001b[0m 3ms/step - loss: 15682.3682 - mae: 108.9695 - val_loss: 17504.1289 - val_mae: 114.3234\n",
      "Epoch 40/60\n",
      "\u001b[1m64/64\u001b[0m \u001b[32m━━━━━━━━━━━━━━━━━━━━\u001b[0m\u001b[37m\u001b[0m \u001b[1m0s\u001b[0m 3ms/step - loss: 16663.2617 - mae: 110.6184 - val_loss: 18089.9277 - val_mae: 115.9551\n",
      "Epoch 41/60\n",
      "\u001b[1m64/64\u001b[0m \u001b[32m━━━━━━━━━━━━━━━━━━━━\u001b[0m\u001b[37m\u001b[0m \u001b[1m0s\u001b[0m 3ms/step - loss: 16753.1133 - mae: 111.7424 - val_loss: 18151.0586 - val_mae: 115.8216\n",
      "Epoch 42/60\n",
      "\u001b[1m64/64\u001b[0m \u001b[32m━━━━━━━━━━━━━━━━━━━━\u001b[0m\u001b[37m\u001b[0m \u001b[1m0s\u001b[0m 3ms/step - loss: 16475.2617 - mae: 109.6677 - val_loss: 17764.1543 - val_mae: 115.4436\n",
      "Epoch 43/60\n",
      "\u001b[1m64/64\u001b[0m \u001b[32m━━━━━━━━━━━━━━━━━━━━\u001b[0m\u001b[37m\u001b[0m \u001b[1m0s\u001b[0m 3ms/step - loss: 15542.9033 - mae: 106.1528 - val_loss: 17231.6641 - val_mae: 114.0825\n",
      "Epoch 44/60\n",
      "\u001b[1m64/64\u001b[0m \u001b[32m━━━━━━━━━━━━━━━━━━━━\u001b[0m\u001b[37m\u001b[0m \u001b[1m0s\u001b[0m 3ms/step - loss: 15342.9590 - mae: 106.5812 - val_loss: 17977.8789 - val_mae: 116.0969\n",
      "Epoch 45/60\n",
      "\u001b[1m64/64\u001b[0m \u001b[32m━━━━━━━━━━━━━━━━━━━━\u001b[0m\u001b[37m\u001b[0m \u001b[1m0s\u001b[0m 4ms/step - loss: 16106.8066 - mae: 108.4801 - val_loss: 17509.7871 - val_mae: 114.5263\n",
      "Epoch 46/60\n",
      "\u001b[1m64/64\u001b[0m \u001b[32m━━━━━━━━━━━━━━━━━━━━\u001b[0m\u001b[37m\u001b[0m \u001b[1m0s\u001b[0m 3ms/step - loss: 17243.3672 - mae: 114.4043 - val_loss: 17763.3008 - val_mae: 115.1473\n",
      "Epoch 47/60\n",
      "\u001b[1m64/64\u001b[0m \u001b[32m━━━━━━━━━━━━━━━━━━━━\u001b[0m\u001b[37m\u001b[0m \u001b[1m0s\u001b[0m 3ms/step - loss: 16244.6709 - mae: 110.2210 - val_loss: 17576.8711 - val_mae: 114.1060\n",
      "Epoch 48/60\n",
      "\u001b[1m64/64\u001b[0m \u001b[32m━━━━━━━━━━━━━━━━━━━━\u001b[0m\u001b[37m\u001b[0m \u001b[1m0s\u001b[0m 3ms/step - loss: 15786.8457 - mae: 106.6950 - val_loss: 17937.7168 - val_mae: 115.6319\n",
      "Epoch 49/60\n",
      "\u001b[1m64/64\u001b[0m \u001b[32m━━━━━━━━━━━━━━━━━━━━\u001b[0m\u001b[37m\u001b[0m \u001b[1m0s\u001b[0m 3ms/step - loss: 15162.8584 - mae: 105.6851 - val_loss: 17956.0957 - val_mae: 115.8310\n",
      "Epoch 50/60\n",
      "\u001b[1m64/64\u001b[0m \u001b[32m━━━━━━━━━━━━━━━━━━━━\u001b[0m\u001b[37m\u001b[0m \u001b[1m0s\u001b[0m 2ms/step - loss: 15519.8174 - mae: 107.0441 - val_loss: 18547.6152 - val_mae: 117.3289\n",
      "Epoch 51/60\n",
      "\u001b[1m64/64\u001b[0m \u001b[32m━━━━━━━━━━━━━━━━━━━━\u001b[0m\u001b[37m\u001b[0m \u001b[1m0s\u001b[0m 3ms/step - loss: 17104.7246 - mae: 114.2089 - val_loss: 17983.1777 - val_mae: 115.6721\n",
      "Epoch 52/60\n",
      "\u001b[1m64/64\u001b[0m \u001b[32m━━━━━━━━━━━━━━━━━━━━\u001b[0m\u001b[37m\u001b[0m \u001b[1m0s\u001b[0m 3ms/step - loss: 15892.3584 - mae: 107.9650 - val_loss: 18419.4609 - val_mae: 114.4109\n",
      "Epoch 53/60\n",
      "\u001b[1m64/64\u001b[0m \u001b[32m━━━━━━━━━━━━━━━━━━━━\u001b[0m\u001b[37m\u001b[0m \u001b[1m0s\u001b[0m 3ms/step - loss: 16364.3203 - mae: 108.8176 - val_loss: 18235.0195 - val_mae: 115.9690\n",
      "Epoch 54/60\n",
      "\u001b[1m64/64\u001b[0m \u001b[32m━━━━━━━━━━━━━━━━━━━━\u001b[0m\u001b[37m\u001b[0m \u001b[1m0s\u001b[0m 3ms/step - loss: 16019.1992 - mae: 108.7061 - val_loss: 17723.3555 - val_mae: 115.3476\n",
      "Epoch 55/60\n",
      "\u001b[1m64/64\u001b[0m \u001b[32m━━━━━━━━━━━━━━━━━━━━\u001b[0m\u001b[37m\u001b[0m \u001b[1m0s\u001b[0m 3ms/step - loss: 14890.5693 - mae: 104.4785 - val_loss: 19160.2988 - val_mae: 118.2004\n",
      "Epoch 56/60\n",
      "\u001b[1m64/64\u001b[0m \u001b[32m━━━━━━━━━━━━━━━━━━━━\u001b[0m\u001b[37m\u001b[0m \u001b[1m0s\u001b[0m 3ms/step - loss: 15314.5078 - mae: 105.2682 - val_loss: 19153.2891 - val_mae: 117.0938\n",
      "Epoch 57/60\n",
      "\u001b[1m64/64\u001b[0m \u001b[32m━━━━━━━━━━━━━━━━━━━━\u001b[0m\u001b[37m\u001b[0m \u001b[1m0s\u001b[0m 3ms/step - loss: 15838.8926 - mae: 108.1197 - val_loss: 19348.6914 - val_mae: 119.3201\n",
      "Epoch 58/60\n",
      "\u001b[1m64/64\u001b[0m \u001b[32m━━━━━━━━━━━━━━━━━━━━\u001b[0m\u001b[37m\u001b[0m \u001b[1m0s\u001b[0m 3ms/step - loss: 15811.5898 - mae: 106.5185 - val_loss: 17832.4121 - val_mae: 114.2619\n",
      "Epoch 59/60\n",
      "\u001b[1m64/64\u001b[0m \u001b[32m━━━━━━━━━━━━━━━━━━━━\u001b[0m\u001b[37m\u001b[0m \u001b[1m0s\u001b[0m 3ms/step - loss: 16694.7305 - mae: 110.8523 - val_loss: 17827.4492 - val_mae: 115.5384\n",
      "Epoch 60/60\n",
      "\u001b[1m64/64\u001b[0m \u001b[32m━━━━━━━━━━━━━━━━━━━━\u001b[0m\u001b[37m\u001b[0m \u001b[1m0s\u001b[0m 3ms/step - loss: 15965.8184 - mae: 109.2166 - val_loss: 18363.6836 - val_mae: 116.6179\n"
     ]
    }
   ],
   "source": [
    "history = model3.fit(X_train, y_train, epochs=60, batch_size=10, validation_split=0.2, verbose=1) \n",
    "\n",
    "# history = model3.fit(X_train, y_train, epochs=50, batch_size=32, validation_split=0.2, verbose=1) , with model1\n",
    "\n",
    "# 20% of the training data will be used for validation, that is 80% of the training data will be used for training\n",
    "# 20% of 800 = 160, 640 will be used for training and 160 will be used for validation\n",
    "# 50 epochs, 32 batch size\n",
    "# 20 total batches will be there, 32 data points in each batch"
   ]
  },
  {
   "cell_type": "markdown",
   "id": "b912c397",
   "metadata": {},
   "source": [
    "Number of times the model is trained on the entire dataset is called an epoch."
   ]
  },
  {
   "cell_type": "code",
   "execution_count": 39,
   "id": "958df707-01b9-48fe-b802-fcad6990cd9f",
   "metadata": {},
   "outputs": [
    {
     "name": "stdout",
     "output_type": "stream",
     "text": [
      "\u001b[1m7/7\u001b[0m \u001b[32m━━━━━━━━━━━━━━━━━━━━\u001b[0m\u001b[37m\u001b[0m \u001b[1m0s\u001b[0m 2ms/step - loss: 17746.6523 - mae: 114.5118 \n",
      "Test Mean Absolute Error: 113.50\n"
     ]
    }
   ],
   "source": [
    "test_loss, test_mae = model3.evaluate(X_test, y_test, verbose=1)\n",
    "print(f\"Test Mean Absolute Error: {test_mae:.2f}\")"
   ]
  },
  {
   "cell_type": "code",
   "execution_count": 40,
   "id": "e48417e4-c56b-420b-9c74-ee312c5a67e7",
   "metadata": {},
   "outputs": [
    {
     "data": {
      "image/png": "[encoded data removed]",
      "text/plain": [
       "<Figure size 640x480 with 1 Axes>"
      ]
     },
     "metadata": {},
     "output_type": "display_data"
    }
   ],
   "source": [
    "plt.plot(history.history['loss'], label='Training Loss')\n",
    "plt.plot(history.history['val_loss'], label='Validation Loss')\n",
    "plt.xlabel('Epochs')\n",
    "plt.ylabel('Loss')\n",
    "plt.title('Model-1 Training Performance')\n",
    "plt.legend()\n",
    "plt.show()"
   ]
  },
  {
   "cell_type": "code",
   "execution_count": 41,
   "id": "2f90c140-a8d9-4286-968b-1bf2fc2a4605",
   "metadata": {},
   "outputs": [
    {
     "name": "stdout",
     "output_type": "stream",
     "text": [
      "\u001b[1m7/7\u001b[0m \u001b[32m━━━━━━━━━━━━━━━━━━━━\u001b[0m\u001b[37m\u001b[0m \u001b[1m0s\u001b[0m 4ms/step\n"
     ]
    },
    {
     "data": {
      "text/plain": [
       "array([[-3.68839473e-01],\n",
       "       [-2.80363590e-01],\n",
       "       [-1.24326684e-01],\n",
       "       [-1.03488944e-01],\n",
       "       [-1.25219703e-01],\n",
       "       [-1.71065733e-01],\n",
       "       [-1.83437675e-01],\n",
       "       [-3.50739896e-01],\n",
       "       [-4.65687245e-01],\n",
       "       [-2.73055434e-01],\n",
       "       [ 1.40824839e-01],\n",
       "       [-7.97662064e-02],\n",
       "       [ 6.72088712e-02],\n",
       "       [ 9.19148996e-02],\n",
       "       [ 7.97960460e-02],\n",
       "       [-5.14605343e-01],\n",
       "       [ 9.70484093e-02],\n",
       "       [-3.60202372e-01],\n",
       "       [-4.38818455e-01],\n",
       "       [-7.64219463e-02],\n",
       "       [ 1.23503190e-02],\n",
       "       [-6.62033558e-02],\n",
       "       [ 7.24574849e-02],\n",
       "       [ 9.16130990e-02],\n",
       "       [-1.49204955e-03],\n",
       "       [-2.91392431e-02],\n",
       "       [ 7.76037723e-02],\n",
       "       [-7.98094720e-02],\n",
       "       [-4.83495414e-01],\n",
       "       [-3.23140770e-01],\n",
       "       [-7.46311769e-02],\n",
       "       [ 8.38200301e-02],\n",
       "       [-4.84112352e-02],\n",
       "       [ 1.77106231e-01],\n",
       "       [-5.52997515e-02],\n",
       "       [ 6.10496327e-02],\n",
       "       [-1.13861486e-01],\n",
       "       [-1.09964237e-02],\n",
       "       [ 4.84887511e-04],\n",
       "       [-6.93997741e-02],\n",
       "       [-1.34112220e-02],\n",
       "       [-2.10786983e-02],\n",
       "       [-2.15161964e-01],\n",
       "       [-1.81381419e-01],\n",
       "       [-3.49187970e-01],\n",
       "       [ 1.03373080e-04],\n",
       "       [-1.39915287e-01],\n",
       "       [-1.98165894e-01],\n",
       "       [-4.44842041e-01],\n",
       "       [-1.72632694e-01],\n",
       "       [-4.16668728e-02],\n",
       "       [-1.61283240e-01],\n",
       "       [ 1.58607185e-01],\n",
       "       [-7.92063996e-02],\n",
       "       [-3.98460925e-01],\n",
       "       [-1.73818335e-01],\n",
       "       [-2.84872919e-01],\n",
       "       [-3.12104195e-01],\n",
       "       [-1.33478552e-01],\n",
       "       [-3.02939564e-01],\n",
       "       [-1.49067029e-01],\n",
       "       [ 1.97168529e-01],\n",
       "       [ 2.83271428e-02],\n",
       "       [ 2.38643438e-01],\n",
       "       [-2.25301400e-01],\n",
       "       [-1.97544724e-01],\n",
       "       [-1.92736521e-01],\n",
       "       [-1.00639038e-01],\n",
       "       [-2.73189813e-01],\n",
       "       [-1.84570134e-01],\n",
       "       [-1.26116704e-02],\n",
       "       [-1.14301667e-01],\n",
       "       [ 1.79939672e-01],\n",
       "       [-3.08536649e-01],\n",
       "       [ 8.80093649e-02],\n",
       "       [-1.61489606e-01],\n",
       "       [-7.92512894e-02],\n",
       "       [-8.53410885e-02],\n",
       "       [ 1.19175836e-02],\n",
       "       [-6.37950897e-02],\n",
       "       [ 1.00694060e-01],\n",
       "       [-2.03798607e-01],\n",
       "       [-4.33475710e-02],\n",
       "       [-1.97168365e-01],\n",
       "       [-9.58630815e-02],\n",
       "       [-1.70836329e-01],\n",
       "       [-2.57347286e-01],\n",
       "       [-2.31924206e-01],\n",
       "       [-9.52256173e-02],\n",
       "       [-1.90631062e-01],\n",
       "       [ 3.78031768e-02],\n",
       "       [ 2.60931909e-01],\n",
       "       [-9.46909003e-03],\n",
       "       [ 2.51109749e-01],\n",
       "       [-1.66773587e-01],\n",
       "       [-1.59431830e-01],\n",
       "       [-2.42309988e-01],\n",
       "       [ 3.07246357e-01],\n",
       "       [-4.59642299e-02],\n",
       "       [-1.32350475e-01],\n",
       "       [-3.46541554e-01],\n",
       "       [ 4.19640429e-02],\n",
       "       [ 6.26213998e-02],\n",
       "       [-3.20759892e-01],\n",
       "       [-1.08874217e-01],\n",
       "       [-2.74544895e-01],\n",
       "       [-2.51517482e-02],\n",
       "       [-3.70293446e-02],\n",
       "       [-7.10183289e-03],\n",
       "       [ 1.99006442e-02],\n",
       "       [-5.78759015e-01],\n",
       "       [-2.46741295e-01],\n",
       "       [-1.70652196e-01],\n",
       "       [-1.15342498e-01],\n",
       "       [ 4.19378951e-02],\n",
       "       [ 1.04126021e-01],\n",
       "       [-6.15276471e-02],\n",
       "       [-4.73813191e-02],\n",
       "       [-4.07458618e-02],\n",
       "       [-5.33685505e-01],\n",
       "       [ 2.79218495e-01],\n",
       "       [ 2.19154388e-01],\n",
       "       [-9.72575247e-02],\n",
       "       [-1.06782801e-01],\n",
       "       [-2.95356631e-01],\n",
       "       [-1.00727025e-02],\n",
       "       [-8.24785233e-02],\n",
       "       [-2.33732492e-01],\n",
       "       [ 7.06213899e-03],\n",
       "       [ 1.26413211e-01],\n",
       "       [-5.43502688e-01],\n",
       "       [-7.78542757e-02],\n",
       "       [-1.95157707e-01],\n",
       "       [ 1.57470986e-01],\n",
       "       [ 6.11806288e-03],\n",
       "       [-2.55329669e-01],\n",
       "       [ 1.23747259e-01],\n",
       "       [-1.67039782e-01],\n",
       "       [ 6.21812195e-02],\n",
       "       [-2.39015907e-01],\n",
       "       [ 2.58108139e-01],\n",
       "       [-4.65355068e-01],\n",
       "       [ 4.59617004e-04],\n",
       "       [-1.43523932e-01],\n",
       "       [-8.95036757e-02],\n",
       "       [-1.15640819e-01],\n",
       "       [ 9.53084528e-02],\n",
       "       [ 1.42758235e-01],\n",
       "       [ 6.45342618e-02],\n",
       "       [-1.32413059e-01],\n",
       "       [ 5.37985601e-02],\n",
       "       [-1.95017681e-01],\n",
       "       [-3.44227016e-01],\n",
       "       [ 2.30976999e-01],\n",
       "       [-3.45221385e-02],\n",
       "       [-2.96788514e-01],\n",
       "       [-2.85683960e-01],\n",
       "       [-1.10178754e-01],\n",
       "       [-3.38870466e-01],\n",
       "       [-1.84625521e-01],\n",
       "       [ 1.79829359e-01],\n",
       "       [ 3.72951478e-02],\n",
       "       [-6.43999502e-02],\n",
       "       [-2.12382063e-01],\n",
       "       [-4.50444780e-02],\n",
       "       [-8.48748833e-02],\n",
       "       [-1.55793615e-02],\n",
       "       [-1.34972975e-01],\n",
       "       [-5.92772141e-02],\n",
       "       [-3.91187407e-02],\n",
       "       [-1.45917416e-01],\n",
       "       [-3.03943418e-02],\n",
       "       [-3.69942814e-01],\n",
       "       [ 3.14862728e-01],\n",
       "       [-1.61226034e-01],\n",
       "       [-5.23175970e-02],\n",
       "       [ 1.46781087e-01],\n",
       "       [-1.65092766e-01],\n",
       "       [-5.10683320e-02],\n",
       "       [-1.03439488e-01],\n",
       "       [-1.08130649e-02],\n",
       "       [-4.79465462e-02],\n",
       "       [-1.89442839e-02],\n",
       "       [-1.53646380e-01],\n",
       "       [-6.14032894e-02],\n",
       "       [-2.02194378e-02],\n",
       "       [-1.34106874e-01],\n",
       "       [-1.70670465e-01],\n",
       "       [-1.02101706e-01],\n",
       "       [-1.59060627e-01],\n",
       "       [-1.25109218e-02],\n",
       "       [-1.21926889e-01],\n",
       "       [ 1.08874485e-01],\n",
       "       [-2.09425285e-01],\n",
       "       [ 3.13314527e-01],\n",
       "       [ 5.80711812e-02],\n",
       "       [-8.14487711e-02],\n",
       "       [-2.33611435e-01],\n",
       "       [ 7.11313039e-02],\n",
       "       [-8.88525471e-02]], dtype=float32)"
      ]
     },
     "execution_count": 41,
     "metadata": {},
     "output_type": "execute_result"
    }
   ],
   "source": [
    "predictions = model1.predict(X_test)\n",
    "predictions"
   ]
  },
  {
   "cell_type": "code",
   "execution_count": 42,
   "id": "fb0150f3-2a4d-422c-a8e8-edb165606e1a",
   "metadata": {},
   "outputs": [
    {
     "data": {
      "image/png": "[encoded data removed]",
      "text/plain": [
       "<Figure size 640x480 with 1 Axes>"
      ]
     },
     "metadata": {},
     "output_type": "display_data"
    }
   ],
   "source": [
    "plt.scatter(y_test, predictions)\n",
    "plt.xlabel('True Energy Consumption')\n",
    "plt.ylabel('Predicted Energy Consumption')\n",
    "plt.title('Predictions vs True Values')\n",
    "plt.show()"
   ]
  },
  {
   "cell_type": "code",
   "execution_count": 1,
   "id": "cc1e4d28",
   "metadata": {},
   "outputs": [
    {
     "name": "stdout",
     "output_type": "stream",
     "text": [
      "Memory used: 80.2%\n"
     ]
    }
   ],
   "source": [
    "import psutil\n",
    "print(f\"Memory used: {psutil.virtual_memory().percent}%\")"
   ]
  },
  {
   "cell_type": "code",
   "execution_count": 2,
   "id": "14fa780e",
   "metadata": {},
   "outputs": [
    {
     "ename": "SyntaxError",
     "evalue": "invalid syntax (1373106854.py, line 1)",
     "output_type": "error",
     "traceback": [
      "  \u001b[36mCell\u001b[39m\u001b[36m \u001b[39m\u001b[32mIn[2]\u001b[39m\u001b[32m, line 1\u001b[39m\n\u001b[31m    \u001b[39m\u001b[31mjupyter notebook list\u001b[39m\n            ^\n\u001b[31mSyntaxError\u001b[39m\u001b[31m:\u001b[39m invalid syntax\n"
     ]
    }
   ],
   "source": [
    "jupyter notebook list"
   ]
  }
 ],
 "metadata": {
  "kernelspec": {
   "display_name": ".venv",
   "language": "python",
   "name": "python3"
  },
  "language_info": {
   "codemirror_mode": {
    "name": "ipython",
    "version": 3
   },
   "file_extension": ".py",
   "mimetype": "text/x-python",
   "name": "python",
   "nbconvert_exporter": "python",
   "pygments_lexer": "ipython3",
   "version": "3.11.4"
  }
 },
 "nbformat": 4,
 "nbformat_minor": 5
}
