{
 "cells": [
  {
   "cell_type": "markdown",
   "metadata": {},
   "source": [
    "Numpy"
   ]
  },
  {
   "cell_type": "code",
   "execution_count": 3,
   "metadata": {},
   "outputs": [],
   "source": [
    "import numpy as np"
   ]
  },
  {
   "cell_type": "code",
   "execution_count": 5,
   "metadata": {},
   "outputs": [
    {
     "name": "stdout",
     "output_type": "stream",
     "text": [
      "Energy Consumption (in MWh) for Different Renewable Sources:\n",
      "[1200 3400 2900 1800 2500]\n"
     ]
    }
   ],
   "source": [
    "# Energy consumption in MWh for differenct renewable sources: Solar, wind, hydropower, geothermal\n",
    "ec = [1200, 3400, 2900, 1800, 2500]\n",
    "energy_consumption = np.array(ec)\n",
    "\n",
    "print(\"Energy Consumption (in MWh) for Different Renewable Sources:\")\n",
    "print(energy_consumption)"
   ]
  },
  {
   "cell_type": "code",
   "execution_count": 10,
   "metadata": {},
   "outputs": [
    {
     "name": "stdout",
     "output_type": "stream",
     "text": [
      "[1. 1. 1. 1.]\n",
      "[[1. 1. 1.]\n",
      " [1. 1. 1.]]\n"
     ]
    }
   ],
   "source": [
    "A = np.ones(4)\n",
    "print(A)\n",
    "A2 = np.ones((2,3))\n",
    "print(A2)"
   ]
  },
  {
   "cell_type": "code",
   "execution_count": 15,
   "metadata": {},
   "outputs": [
    {
     "name": "stdout",
     "output_type": "stream",
     "text": [
      "[0. 0. 0. 0.]\n",
      "[[0. 0. 0.]\n",
      " [0. 0. 0.]\n",
      " [0. 0. 0.]]\n"
     ]
    }
   ],
   "source": [
    "M = np.zeros(4)\n",
    "print(M)\n",
    "M2 = np.zeros((3,3))\n",
    "print(M2)"
   ]
  },
  {
   "cell_type": "code",
   "execution_count": 16,
   "metadata": {},
   "outputs": [
    {
     "name": "stdout",
     "output_type": "stream",
     "text": [
      "[[1. 0. 0. 0.]\n",
      " [0. 1. 0. 0.]\n",
      " [0. 0. 1. 0.]\n",
      " [0. 0. 0. 1.]]\n"
     ]
    }
   ],
   "source": [
    "# Identity matrix\n",
    "M = np.identity(4)\n",
    "print(M)"
   ]
  },
  {
   "cell_type": "code",
   "execution_count": 19,
   "metadata": {},
   "outputs": [
    {
     "name": "stdout",
     "output_type": "stream",
     "text": [
      "Total Energy Consumption: 11800 MWh\n"
     ]
    }
   ],
   "source": [
    "# Calculate total energy consumption\n",
    "total_consumption = np.sum(energy_consumption)\n",
    "print(f\"Total Energy Consumption: {total_consumption} MWh\")"
   ]
  },
  {
   "cell_type": "code",
   "execution_count": 21,
   "metadata": {},
   "outputs": [
    {
     "name": "stdout",
     "output_type": "stream",
     "text": [
      "Mean Energy Consumption: 2360.0 MWh\n"
     ]
    }
   ],
   "source": [
    "mean_consumption = np.mean(energy_consumption)\n",
    "print(f\"Mean Energy Consumption: {mean_consumption} MWh\")"
   ]
  },
  {
   "cell_type": "code",
   "execution_count": 23,
   "metadata": {},
   "outputs": [
    {
     "name": "stdout",
     "output_type": "stream",
     "text": [
      "SD of Energy Consumption: 781.2809993849844 MWh\n"
     ]
    }
   ],
   "source": [
    "std_consumption = np.std(energy_consumption)\n",
    "print(f\"SD of Energy Consumption: {std_consumption} MWh\")"
   ]
  },
  {
   "cell_type": "markdown",
   "metadata": {},
   "source": [
    "Reshaping the Array"
   ]
  },
  {
   "cell_type": "code",
   "execution_count": 35,
   "metadata": {},
   "outputs": [
    {
     "name": "stdout",
     "output_type": "stream",
     "text": [
      "Reshaped Energy Consumption Arra (3x2): \n",
      "[[1200 3400]\n",
      " [2900 1800]\n",
      " [2500 1800]]\n"
     ]
    }
   ],
   "source": [
    "# Reshape the array (to 5 rows and 1 column)\n",
    "# Reshapes tha array into desired rows and columns\n",
    "energy_consumption2 = np.array([1200, 3400, 2900, 1800, 2500, 1800])\n",
    "reshaped_array = energy_consumption2.reshape((3,2))\n",
    "print(\"Reshaped Energy Consumption Arra (3x2): \")\n",
    "print(reshaped_array)"
   ]
  },
  {
   "cell_type": "code",
   "execution_count": 29,
   "metadata": {},
   "outputs": [
    {
     "data": {
      "text/plain": [
       "array([1200, 3400, 2900, 1800, 2500, 1800])"
      ]
     },
     "execution_count": 29,
     "metadata": {},
     "output_type": "execute_result"
    }
   ],
   "source": [
    "# flatten\n",
    "reshaped_array.flatten()"
   ]
  },
  {
   "cell_type": "code",
   "execution_count": 37,
   "metadata": {},
   "outputs": [
    {
     "data": {
      "text/plain": [
       "array([[1200, 2900, 2500],\n",
       "       [3400, 1800, 1800]])"
      ]
     },
     "execution_count": 37,
     "metadata": {},
     "output_type": "execute_result"
    }
   ],
   "source": [
    "# transpose\n",
    "# reshaped_array.transpose()\n",
    "reshaped_array.T"
   ]
  },
  {
   "cell_type": "code",
   "execution_count": 40,
   "metadata": {},
   "outputs": [
    {
     "data": {
      "text/plain": [
       "array([[1200, 3400, 2900],\n",
       "       [1800, 2500, 1800],\n",
       "       [1200, 3400, 2900]])"
      ]
     },
     "execution_count": 40,
     "metadata": {},
     "output_type": "execute_result"
    }
   ],
   "source": [
    "# Duplicate value is added if needed\n",
    "resize_array = np.resize(reshaped_array, (3,3))\n",
    "resize_array"
   ]
  }
 ],
 "metadata": {
  "kernelspec": {
   "display_name": ".venv",
   "language": "python",
   "name": "python3"
  },
  "language_info": {
   "codemirror_mode": {
    "name": "ipython",
    "version": 3
   },
   "file_extension": ".py",
   "mimetype": "text/x-python",
   "name": "python",
   "nbconvert_exporter": "python",
   "pygments_lexer": "ipython3",
   "version": "3.11.4"
  }
 },
 "nbformat": 4,
 "nbformat_minor": 2
}
